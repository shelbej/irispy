{
 "cells": [
  {
   "cell_type": "code",
   "execution_count": 1,
   "metadata": {
    "collapsed": false
   },
   "outputs": [
    {
     "data": {
      "text/plain": [
       "'/Users/shelbe/sunpy/data/sample_data/iris_l2_20170502_052551_3893010094_raster_t000_r00000.fits'"
      ]
     },
     "execution_count": 1,
     "metadata": {},
     "output_type": "execute_result"
    }
   ],
   "source": [
    "from irispy.spectrograph import IRISRaster\n",
    "import matplotlib.pyplot as plt\n",
    "from irispy.data import sample\n",
    "sample.RASTER"
   ]
  },
  {
   "cell_type": "code",
   "execution_count": 2,
   "metadata": {
    "collapsed": true
   },
   "outputs": [],
   "source": [
    "raster=IRISRaster(sample.RASTER)"
   ]
  },
  {
   "cell_type": "code",
   "execution_count": 3,
   "metadata": {
    "collapsed": false
   },
   "outputs": [
    {
     "data": {
      "text/plain": [
       "<iris.IRISRaster instance\n",
       "OBS ID: 3893010094\n",
       "OBS Description: Large coarse 64-step raster 126x120 64s   Deep x 15   SJI cadence 3x\n",
       "OBS period: 2017-05-02T05:25:51.850 -- 2017-05-02T05:43:58.501\n",
       "Instance period: 2017-05-02T05:25:52.020000000 -- 2017-05-02T05:43:41.350000000\n",
       "Number unique raster positions: 64\n",
       "Spectral windows\n",
       "    C II 1336\n",
       "        (raster axis: 64, slit axis: 772, spectral axis: 2055)\n",
       "    Si IV 1394\n",
       "        (raster axis: 64, slit axis: 772, spectral axis: 2040)\n",
       "    Mg II k 2796\n",
       "        (raster axis: 64, slit axis: 772, spectral axis: 2031)>"
      ]
     },
     "execution_count": 3,
     "metadata": {},
     "output_type": "execute_result"
    }
   ],
   "source": [
    "raster"
   ]
  },
  {
   "cell_type": "code",
   "execution_count": 4,
   "metadata": {
    "collapsed": false
   },
   "outputs": [
    {
     "data": {
      "text/html": [
       "&lt;Table length=3&gt;\n",
       "<table id=\"table4601400008\" class=\"table-striped table-bordered table-condensed\">\n",
       "<thead><tr><th>name</th><th>detector type</th><th>brightest wavelength</th><th>min wavelength</th><th>max wavelength</th></tr></thead>\n",
       "<thead><tr><th></th><th></th><th>Angstrom</th><th>Angstrom</th><th>Angstrom</th></tr></thead>\n",
       "<thead><tr><th>str12</th><th>str4</th><th>float64</th><th>float64</th><th>float64</th></tr></thead>\n",
       "<tr><td>C II 1336</td><td>FUV1</td><td>1335.70996094</td><td>1331.68328015</td><td>1358.34420039</td></tr>\n",
       "<tr><td>Si IV 1394</td><td>FUV2</td><td>1393.7800293</td><td>1380.79114787</td><td>1406.72722787</td></tr>\n",
       "<tr><td>Mg II k 2796</td><td>NUV</td><td>2796.19995117</td><td>2783.23318697</td><td>2834.91698538</td></tr>\n",
       "</table>"
      ],
      "text/plain": [
       "<Table length=3>\n",
       "    name     detector type brightest wavelength min wavelength max wavelength\n",
       "                                 Angstrom          Angstrom       Angstrom   \n",
       "   str12          str4           float64           float64        float64    \n",
       "------------ ------------- -------------------- -------------- --------------\n",
       "   C II 1336          FUV1        1335.70996094  1331.68328015  1358.34420039\n",
       "  Si IV 1394          FUV2         1393.7800293  1380.79114787  1406.72722787\n",
       "Mg II k 2796           NUV        2796.19995117  2783.23318697  2834.91698538"
      ]
     },
     "execution_count": 4,
     "metadata": {},
     "output_type": "execute_result"
    }
   ],
   "source": [
    "raster.spectral_windows"
   ]
  },
  {
   "cell_type": "code",
   "execution_count": null,
   "metadata": {
    "collapsed": true
   },
   "outputs": [],
   "source": []
  }
 ],
 "metadata": {
  "kernelspec": {
   "display_name": "Python [conda env:irispy-dev]",
   "language": "python",
   "name": "conda-env-irispy-dev-py"
  },
  "language_info": {
   "codemirror_mode": {
    "name": "ipython",
    "version": 3
   },
   "file_extension": ".py",
   "mimetype": "text/x-python",
   "name": "python",
   "nbconvert_exporter": "python",
   "pygments_lexer": "ipython3",
   "version": "3.6.1"
  }
 },
 "nbformat": 4,
 "nbformat_minor": 2
}
