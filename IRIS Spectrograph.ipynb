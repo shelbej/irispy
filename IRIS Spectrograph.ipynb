{
 "cells": [
  {
   "cell_type": "markdown",
   "metadata": {},
   "source": [
    "# IRISpy Spectrograph Tutorial"
   ]
  },
  {
   "cell_type": "markdown",
   "metadata": {},
   "source": [
    "In this notebook we explore some of the basic functionality of the IRISSpectrograph object."
   ]
  },
  {
   "cell_type": "code",
   "execution_count": 2,
   "metadata": {
    "collapsed": false
   },
   "outputs": [
    {
     "name": "stdout",
     "output_type": "stream",
     "text": [
      "/Users/shelbe/sunpy/data/sample_data/iris_l2_20170502_095734_3620250135_raster_t000_r00000.fits\n"
     ]
    }
   ],
   "source": [
    "import os.path\n",
    "import datetime\n",
    "\n",
    "import numpy as np\n",
    "from astropy.io import fits\n",
    "from astropy.wcs import WCS\n",
    "import astropy.units as u\n",
    "\n",
    "from ndcube import NDCube\n",
    "\n",
    "from irispy.spectrograph import IRISSpectrograph\n",
    "\n",
    "\n",
    "from sunpycube.cube.datacube import Cube, CubeSequence\n",
    "import matplotlib.pyplot as plt\n",
    "import matplotlib.colors as colors\n",
    "from irispy.data import sample\n",
    "from IPython.display import HTML\n",
    "print(sample.RASTER)\n",
    "%matplotlib notebook\n",
    "\n",
    "plt.rcParams.update({'figure.dpi': 100,'font.size':10})"
   ]
  },
  {
   "cell_type": "markdown",
   "metadata": {},
   "source": [
    "## Instantiate an IRISSpectrograph Object from FITS Files"
   ]
  },
  {
   "cell_type": "code",
   "execution_count": 1,
   "metadata": {
    "collapsed": false
   },
   "outputs": [
    {
     "ename": "NameError",
     "evalue": "name 'os' is not defined",
     "output_type": "error",
     "traceback": [
      "\u001b[0;31m---------------------------------------------------------------------------\u001b[0m",
      "\u001b[0;31mNameError\u001b[0m                                 Traceback (most recent call last)",
      "\u001b[0;32m<ipython-input-1-86b3e8cb8db7>\u001b[0m in \u001b[0;36m<module>\u001b[0;34m()\u001b[0m\n\u001b[1;32m      1\u001b[0m \u001b[0mfile_path\u001b[0m \u001b[0;34m=\u001b[0m \u001b[0;34m'/Users/shelbe/sunpy/raster/'\u001b[0m\u001b[0;34m\u001b[0m\u001b[0m\n\u001b[0;32m----> 2\u001b[0;31m \u001b[0mfiles\u001b[0m \u001b[0;34m=\u001b[0m \u001b[0;34m[\u001b[0m\u001b[0mos\u001b[0m\u001b[0;34m.\u001b[0m\u001b[0mpath\u001b[0m\u001b[0;34m.\u001b[0m\u001b[0mjoin\u001b[0m\u001b[0;34m(\u001b[0m\u001b[0mfile_path\u001b[0m\u001b[0;34m,\u001b[0m \u001b[0mf\u001b[0m\u001b[0;34m)\u001b[0m \u001b[0;32mfor\u001b[0m \u001b[0mf\u001b[0m \u001b[0;32min\u001b[0m \u001b[0mos\u001b[0m\u001b[0;34m.\u001b[0m\u001b[0mlistdir\u001b[0m\u001b[0;34m(\u001b[0m\u001b[0mfile_path\u001b[0m\u001b[0;34m)\u001b[0m\u001b[0;34m]\u001b[0m\u001b[0;34m\u001b[0m\u001b[0m\n\u001b[0m",
      "\u001b[0;31mNameError\u001b[0m: name 'os' is not defined"
     ]
    }
   ],
   "source": [
    "file_path = '/Users/shelbe/sunpy/raster/'\n",
    "files = [os.path.join(file_path, f) for f in os.listdir(file_path)]"
   ]
  },
  {
   "cell_type": "code",
   "execution_count": 4,
   "metadata": {
    "collapsed": false
   },
   "outputs": [],
   "source": [
    "sg=IRISSpectrograph(files)"
   ]
  },
  {
   "cell_type": "markdown",
   "metadata": {},
   "source": [
    "The repr string of IRISSpectrograph gives a usefule summary of the OBS, spectral windows and data shape."
   ]
  },
  {
   "cell_type": "code",
   "execution_count": 5,
   "metadata": {
    "collapsed": false
   },
   "outputs": [
    {
     "data": {
      "text/plain": [
       "<iris.IRISSpectrograph instance\n",
       "OBS ID: 3620250135\n",
       "OBS Description: Medium dense 16-step raster 5x60 16s  C II   Si IV   Mg II h/k   Mg\n",
       "OBS period: 2017-05-02T09:57:34.760 -- 2017-05-02T11:08:14.150\n",
       "Instance period: 2017-05-02 09:57:34.930000 -- 2017-05-02 09:58:08.120000\n",
       "Number unique raster positions: 16\n",
       "Spectral windows\n",
       "    C II 1336\n",
       "        (raster axis, slit axis, spectral axis) (('HPLN-TAN', 'HPLT-TAN', 'WAVE'),)\n",
       "    Fe XII 1349\n",
       "        (raster axis, slit axis, spectral axis) (('HPLN-TAN', 'HPLT-TAN', 'WAVE'),)\n",
       "    O I 1356\n",
       "        (raster axis, slit axis, spectral axis) (('HPLN-TAN', 'HPLT-TAN', 'WAVE'),)\n",
       "    Si IV 1394\n",
       "        (raster axis, slit axis, spectral axis) (('HPLN-TAN', 'HPLT-TAN', 'WAVE'),)\n",
       "    Si IV 1403\n",
       "        (raster axis, slit axis, spectral axis) (('HPLN-TAN', 'HPLT-TAN', 'WAVE'),)\n",
       "    2832\n",
       "        (raster axis, slit axis, spectral axis) (('HPLN-TAN', 'HPLT-TAN', 'WAVE'),)\n",
       "    2814\n",
       "        (raster axis, slit axis, spectral axis) (('HPLN-TAN', 'HPLT-TAN', 'WAVE'),)\n",
       "    Mg II k 2796\n",
       "        (raster axis, slit axis, spectral axis) (('HPLN-TAN', 'HPLT-TAN', 'WAVE'),)>"
      ]
     },
     "execution_count": 5,
     "metadata": {},
     "output_type": "execute_result"
    }
   ],
   "source": [
    "sg"
   ]
  },
  {
   "cell_type": "markdown",
   "metadata": {
    "collapsed": false
   },
   "source": [
    "### Inspecting an IRISSpectrograph Instance\n",
    "Infomation on the spectral windows in the instance is stored as an astropy table. This can be indexed by row and column as with any astropy table. And where appropriate, units are attached to columns."
   ]
  },
  {
   "cell_type": "code",
   "execution_count": 6,
   "metadata": {
    "collapsed": false
   },
   "outputs": [
    {
     "data": {
      "text/html": [
       "&lt;Table length=8&gt;\n",
       "<table id=\"table4841938672\" class=\"table-striped table-bordered table-condensed\">\n",
       "<thead><tr><th>name</th><th>detector type</th><th>brightest wavelength</th><th>min wavelength</th><th>max wavelength</th></tr></thead>\n",
       "<thead><tr><th></th><th></th><th>Angstrom</th><th>Angstrom</th><th>Angstrom</th></tr></thead>\n",
       "<thead><tr><th>str12</th><th>str4</th><th>float64</th><th>float64</th><th>float64</th></tr></thead>\n",
       "<tr><td>C II 1336</td><td>FUV1</td><td>1335.70996094</td><td>1332.75413016</td><td>1337.4528902</td></tr>\n",
       "<tr><td>Fe XII 1349</td><td>FUV1</td><td>1349.43005371</td><td>1347.73305029</td><td>1350.74441032</td></tr>\n",
       "<tr><td>O I 1356</td><td>FUV1</td><td>1355.59997559</td><td>1352.30201033</td><td>1356.53349037</td></tr>\n",
       "<tr><td>Si IV 1394</td><td>FUV2</td><td>1393.7800293</td><td>1390.94806787</td><td>1395.95974787</td></tr>\n",
       "<tr><td>Si IV 1403</td><td>FUV2</td><td>1402.77001953</td><td>1398.68182787</td><td>1406.11030787</td></tr>\n",
       "<tr><td>2832</td><td>NUV</td><td>2832.89291545</td><td>2831.58172549</td><td>2834.20410541</td></tr>\n",
       "<tr><td>2814</td><td>NUV</td><td>2814.61263601</td><td>2812.89408606</td><td>2816.33118595</td></tr>\n",
       "<tr><td>Mg II k 2796</td><td>NUV</td><td>2796.19995117</td><td>2793.31534666</td><td>2806.55454625</td></tr>\n",
       "</table>"
      ],
      "text/plain": [
       "<Table length=8>\n",
       "    name     detector type brightest wavelength min wavelength max wavelength\n",
       "                                 Angstrom          Angstrom       Angstrom   \n",
       "   str12          str4           float64           float64        float64    \n",
       "------------ ------------- -------------------- -------------- --------------\n",
       "   C II 1336          FUV1        1335.70996094  1332.75413016   1337.4528902\n",
       " Fe XII 1349          FUV1        1349.43005371  1347.73305029  1350.74441032\n",
       "    O I 1356          FUV1        1355.59997559  1352.30201033  1356.53349037\n",
       "  Si IV 1394          FUV2         1393.7800293  1390.94806787  1395.95974787\n",
       "  Si IV 1403          FUV2        1402.77001953  1398.68182787  1406.11030787\n",
       "        2832           NUV        2832.89291545  2831.58172549  2834.20410541\n",
       "        2814           NUV        2814.61263601  2812.89408606  2816.33118595\n",
       "Mg II k 2796           NUV        2796.19995117  2793.31534666  2806.55454625"
      ]
     },
     "execution_count": 6,
     "metadata": {},
     "output_type": "execute_result"
    }
   ],
   "source": [
    "sg.spectral_windows"
   ]
  },
  {
   "cell_type": "markdown",
   "metadata": {},
   "source": [
    "The data is stored as a dictionary, where each spectral window has its own key."
   ]
  },
  {
   "cell_type": "code",
   "execution_count": 7,
   "metadata": {
    "collapsed": false
   },
   "outputs": [
    {
     "data": {
      "text/plain": [
       "{'2814': SpectrogramSequence\n",
       " ---------------------\n",
       " Rasters:  120\n",
       " Exposures per Raster: 16\n",
       " Axis Types: ('HPLN-TAN', 'HPLT-TAN', 'WAVE')\n",
       " Sequence Shape: (1920, <Quantity 400.0 pix>, <Quantity 136.0 pix>)\n",
       " , '2832': SpectrogramSequence\n",
       " ---------------------\n",
       " Rasters:  120\n",
       " Exposures per Raster: 16\n",
       " Axis Types: ('HPLN-TAN', 'HPLT-TAN', 'WAVE')\n",
       " Sequence Shape: (1920, <Quantity 400.0 pix>, <Quantity 104.0 pix>)\n",
       " , 'C II 1336': SpectrogramSequence\n",
       " ---------------------\n",
       " Rasters:  120\n",
       " Exposures per Raster: 16\n",
       " Axis Types: ('HPLN-TAN', 'HPLT-TAN', 'WAVE')\n",
       " Sequence Shape: (1920, <Quantity 400.0 pix>, <Quantity 182.0 pix>)\n",
       " , 'Fe XII 1349': SpectrogramSequence\n",
       " ---------------------\n",
       " Rasters:  120\n",
       " Exposures per Raster: 16\n",
       " Axis Types: ('HPLN-TAN', 'HPLT-TAN', 'WAVE')\n",
       " Sequence Shape: (1920, <Quantity 400.0 pix>, <Quantity 117.0 pix>)\n",
       " , 'Mg II k 2796': SpectrogramSequence\n",
       " ---------------------\n",
       " Rasters:  120\n",
       " Exposures per Raster: 16\n",
       " Axis Types: ('HPLN-TAN', 'HPLT-TAN', 'WAVE')\n",
       " Sequence Shape: (1920, <Quantity 400.0 pix>, <Quantity 521.0 pix>)\n",
       " , 'O I 1356': SpectrogramSequence\n",
       " ---------------------\n",
       " Rasters:  120\n",
       " Exposures per Raster: 16\n",
       " Axis Types: ('HPLN-TAN', 'HPLT-TAN', 'WAVE')\n",
       " Sequence Shape: (1920, <Quantity 400.0 pix>, <Quantity 164.0 pix>)\n",
       " , 'Si IV 1394': SpectrogramSequence\n",
       " ---------------------\n",
       " Rasters:  120\n",
       " Exposures per Raster: 16\n",
       " Axis Types: ('HPLN-TAN', 'HPLT-TAN', 'WAVE')\n",
       " Sequence Shape: (1920, <Quantity 400.0 pix>, <Quantity 198.0 pix>)\n",
       " , 'Si IV 1403': SpectrogramSequence\n",
       " ---------------------\n",
       " Rasters:  120\n",
       " Exposures per Raster: 16\n",
       " Axis Types: ('HPLN-TAN', 'HPLT-TAN', 'WAVE')\n",
       " Sequence Shape: (1920, <Quantity 400.0 pix>, <Quantity 293.0 pix>)\n",
       " }"
      ]
     },
     "execution_count": 7,
     "metadata": {},
     "output_type": "execute_result"
    }
   ],
   "source": [
    "sg.data"
   ]
  },
  {
   "cell_type": "markdown",
   "metadata": {},
   "source": [
    "# Inspecting Data for One Spectral Window\n",
    "The data for each spectral window is stored in a SpectrogramSequence object."
   ]
  },
  {
   "cell_type": "code",
   "execution_count": 8,
   "metadata": {
    "collapsed": false
   },
   "outputs": [
    {
     "data": {
      "text/plain": [
       "SpectrogramSequence\n",
       "---------------------\n",
       "Rasters:  120\n",
       "Exposures per Raster: 16\n",
       "Axis Types: ('HPLN-TAN', 'HPLT-TAN', 'WAVE')\n",
       "Sequence Shape: (1920, <Quantity 400.0 pix>, <Quantity 182.0 pix>)\n"
      ]
     },
     "execution_count": 8,
     "metadata": {},
     "output_type": "execute_result"
    }
   ],
   "source": [
    "sg.data[\"C II 1336\"]"
   ]
  },
  {
   "cell_type": "markdown",
   "metadata": {},
   "source": [
    "Inspect the dimensions of the SpectrumSequence instance using the dimensions attribute. This returns a SequenceDimensionPair object which gives the shape of the data as indexed, and the types of WCS axes corresponding to each axis.\n",
    "The first dimension corresponds to the exposure number. This has both a translation to time and solar X. The second dimension is position along the slit. The third dimension wavelength."
   ]
  },
  {
   "cell_type": "code",
   "execution_count": 9,
   "metadata": {
    "collapsed": false
   },
   "outputs": [
    {
     "data": {
      "text/plain": [
       "SequenceDimensionPair(shape=(1920, <Quantity 400.0 pix>, <Quantity 182.0 pix>), axis_types=('HPLN-TAN', 'HPLT-TAN', 'WAVE'))"
      ]
     },
     "execution_count": 9,
     "metadata": {},
     "output_type": "execute_result"
    }
   ],
   "source": [
    "sg.data[\"C II 1336\"].dimensions"
   ]
  },
  {
   "cell_type": "markdown",
   "metadata": {},
   "source": [
    "We can produce a quicklook animation of the SpectrogramSequence by using the plot attribute. Use the left and right arrow keys to scroll back and forth through frames in time or click the play/pause icon next to the slider."
   ]
  },
  {
   "cell_type": "code",
   "execution_count": 10,
   "metadata": {
    "collapsed": false
   },
   "outputs": [
    {
     "data": {
      "application/javascript": [
       "/* Put everything inside the global mpl namespace */\n",
       "window.mpl = {};\n",
       "\n",
       "\n",
       "mpl.get_websocket_type = function() {\n",
       "    if (typeof(WebSocket) !== 'undefined') {\n",
       "        return WebSocket;\n",
       "    } else if (typeof(MozWebSocket) !== 'undefined') {\n",
       "        return MozWebSocket;\n",
       "    } else {\n",
       "        alert('Your browser does not have WebSocket support.' +\n",
       "              'Please try Chrome, Safari or Firefox ≥ 6. ' +\n",
       "              'Firefox 4 and 5 are also supported but you ' +\n",
       "              'have to enable WebSockets in about:config.');\n",
       "    };\n",
       "}\n",
       "\n",
       "mpl.figure = function(figure_id, websocket, ondownload, parent_element) {\n",
       "    this.id = figure_id;\n",
       "\n",
       "    this.ws = websocket;\n",
       "\n",
       "    this.supports_binary = (this.ws.binaryType != undefined);\n",
       "\n",
       "    if (!this.supports_binary) {\n",
       "        var warnings = document.getElementById(\"mpl-warnings\");\n",
       "        if (warnings) {\n",
       "            warnings.style.display = 'block';\n",
       "            warnings.textContent = (\n",
       "                \"This browser does not support binary websocket messages. \" +\n",
       "                    \"Performance may be slow.\");\n",
       "        }\n",
       "    }\n",
       "\n",
       "    this.imageObj = new Image();\n",
       "\n",
       "    this.context = undefined;\n",
       "    this.message = undefined;\n",
       "    this.canvas = undefined;\n",
       "    this.rubberband_canvas = undefined;\n",
       "    this.rubberband_context = undefined;\n",
       "    this.format_dropdown = undefined;\n",
       "\n",
       "    this.image_mode = 'full';\n",
       "\n",
       "    this.root = $('<div/>');\n",
       "    this._root_extra_style(this.root)\n",
       "    this.root.attr('style', 'display: inline-block');\n",
       "\n",
       "    $(parent_element).append(this.root);\n",
       "\n",
       "    this._init_header(this);\n",
       "    this._init_canvas(this);\n",
       "    this._init_toolbar(this);\n",
       "\n",
       "    var fig = this;\n",
       "\n",
       "    this.waiting = false;\n",
       "\n",
       "    this.ws.onopen =  function () {\n",
       "            fig.send_message(\"supports_binary\", {value: fig.supports_binary});\n",
       "            fig.send_message(\"send_image_mode\", {});\n",
       "            if (mpl.ratio != 1) {\n",
       "                fig.send_message(\"set_dpi_ratio\", {'dpi_ratio': mpl.ratio});\n",
       "            }\n",
       "            fig.send_message(\"refresh\", {});\n",
       "        }\n",
       "\n",
       "    this.imageObj.onload = function() {\n",
       "            if (fig.image_mode == 'full') {\n",
       "                // Full images could contain transparency (where diff images\n",
       "                // almost always do), so we need to clear the canvas so that\n",
       "                // there is no ghosting.\n",
       "                fig.context.clearRect(0, 0, fig.canvas.width, fig.canvas.height);\n",
       "            }\n",
       "            fig.context.drawImage(fig.imageObj, 0, 0);\n",
       "        };\n",
       "\n",
       "    this.imageObj.onunload = function() {\n",
       "        this.ws.close();\n",
       "    }\n",
       "\n",
       "    this.ws.onmessage = this._make_on_message_function(this);\n",
       "\n",
       "    this.ondownload = ondownload;\n",
       "}\n",
       "\n",
       "mpl.figure.prototype._init_header = function() {\n",
       "    var titlebar = $(\n",
       "        '<div class=\"ui-dialog-titlebar ui-widget-header ui-corner-all ' +\n",
       "        'ui-helper-clearfix\"/>');\n",
       "    var titletext = $(\n",
       "        '<div class=\"ui-dialog-title\" style=\"width: 100%; ' +\n",
       "        'text-align: center; padding: 3px;\"/>');\n",
       "    titlebar.append(titletext)\n",
       "    this.root.append(titlebar);\n",
       "    this.header = titletext[0];\n",
       "}\n",
       "\n",
       "\n",
       "\n",
       "mpl.figure.prototype._canvas_extra_style = function(canvas_div) {\n",
       "\n",
       "}\n",
       "\n",
       "\n",
       "mpl.figure.prototype._root_extra_style = function(canvas_div) {\n",
       "\n",
       "}\n",
       "\n",
       "mpl.figure.prototype._init_canvas = function() {\n",
       "    var fig = this;\n",
       "\n",
       "    var canvas_div = $('<div/>');\n",
       "\n",
       "    canvas_div.attr('style', 'position: relative; clear: both; outline: 0');\n",
       "\n",
       "    function canvas_keyboard_event(event) {\n",
       "        return fig.key_event(event, event['data']);\n",
       "    }\n",
       "\n",
       "    canvas_div.keydown('key_press', canvas_keyboard_event);\n",
       "    canvas_div.keyup('key_release', canvas_keyboard_event);\n",
       "    this.canvas_div = canvas_div\n",
       "    this._canvas_extra_style(canvas_div)\n",
       "    this.root.append(canvas_div);\n",
       "\n",
       "    var canvas = $('<canvas/>');\n",
       "    canvas.addClass('mpl-canvas');\n",
       "    canvas.attr('style', \"left: 0; top: 0; z-index: 0; outline: 0\")\n",
       "\n",
       "    this.canvas = canvas[0];\n",
       "    this.context = canvas[0].getContext(\"2d\");\n",
       "\n",
       "    var backingStore = this.context.backingStorePixelRatio ||\n",
       "\tthis.context.webkitBackingStorePixelRatio ||\n",
       "\tthis.context.mozBackingStorePixelRatio ||\n",
       "\tthis.context.msBackingStorePixelRatio ||\n",
       "\tthis.context.oBackingStorePixelRatio ||\n",
       "\tthis.context.backingStorePixelRatio || 1;\n",
       "\n",
       "    mpl.ratio = (window.devicePixelRatio || 1) / backingStore;\n",
       "\n",
       "    var rubberband = $('<canvas/>');\n",
       "    rubberband.attr('style', \"position: absolute; left: 0; top: 0; z-index: 1;\")\n",
       "\n",
       "    var pass_mouse_events = true;\n",
       "\n",
       "    canvas_div.resizable({\n",
       "        start: function(event, ui) {\n",
       "            pass_mouse_events = false;\n",
       "        },\n",
       "        resize: function(event, ui) {\n",
       "            fig.request_resize(ui.size.width, ui.size.height);\n",
       "        },\n",
       "        stop: function(event, ui) {\n",
       "            pass_mouse_events = true;\n",
       "            fig.request_resize(ui.size.width, ui.size.height);\n",
       "        },\n",
       "    });\n",
       "\n",
       "    function mouse_event_fn(event) {\n",
       "        if (pass_mouse_events)\n",
       "            return fig.mouse_event(event, event['data']);\n",
       "    }\n",
       "\n",
       "    rubberband.mousedown('button_press', mouse_event_fn);\n",
       "    rubberband.mouseup('button_release', mouse_event_fn);\n",
       "    // Throttle sequential mouse events to 1 every 20ms.\n",
       "    rubberband.mousemove('motion_notify', mouse_event_fn);\n",
       "\n",
       "    rubberband.mouseenter('figure_enter', mouse_event_fn);\n",
       "    rubberband.mouseleave('figure_leave', mouse_event_fn);\n",
       "\n",
       "    canvas_div.on(\"wheel\", function (event) {\n",
       "        event = event.originalEvent;\n",
       "        event['data'] = 'scroll'\n",
       "        if (event.deltaY < 0) {\n",
       "            event.step = 1;\n",
       "        } else {\n",
       "            event.step = -1;\n",
       "        }\n",
       "        mouse_event_fn(event);\n",
       "    });\n",
       "\n",
       "    canvas_div.append(canvas);\n",
       "    canvas_div.append(rubberband);\n",
       "\n",
       "    this.rubberband = rubberband;\n",
       "    this.rubberband_canvas = rubberband[0];\n",
       "    this.rubberband_context = rubberband[0].getContext(\"2d\");\n",
       "    this.rubberband_context.strokeStyle = \"#000000\";\n",
       "\n",
       "    this._resize_canvas = function(width, height) {\n",
       "        // Keep the size of the canvas, canvas container, and rubber band\n",
       "        // canvas in synch.\n",
       "        canvas_div.css('width', width)\n",
       "        canvas_div.css('height', height)\n",
       "\n",
       "        canvas.attr('width', width * mpl.ratio);\n",
       "        canvas.attr('height', height * mpl.ratio);\n",
       "        canvas.attr('style', 'width: ' + width + 'px; height: ' + height + 'px;');\n",
       "\n",
       "        rubberband.attr('width', width);\n",
       "        rubberband.attr('height', height);\n",
       "    }\n",
       "\n",
       "    // Set the figure to an initial 600x600px, this will subsequently be updated\n",
       "    // upon first draw.\n",
       "    this._resize_canvas(600, 600);\n",
       "\n",
       "    // Disable right mouse context menu.\n",
       "    $(this.rubberband_canvas).bind(\"contextmenu\",function(e){\n",
       "        return false;\n",
       "    });\n",
       "\n",
       "    function set_focus () {\n",
       "        canvas.focus();\n",
       "        canvas_div.focus();\n",
       "    }\n",
       "\n",
       "    window.setTimeout(set_focus, 100);\n",
       "}\n",
       "\n",
       "mpl.figure.prototype._init_toolbar = function() {\n",
       "    var fig = this;\n",
       "\n",
       "    var nav_element = $('<div/>')\n",
       "    nav_element.attr('style', 'width: 100%');\n",
       "    this.root.append(nav_element);\n",
       "\n",
       "    // Define a callback function for later on.\n",
       "    function toolbar_event(event) {\n",
       "        return fig.toolbar_button_onclick(event['data']);\n",
       "    }\n",
       "    function toolbar_mouse_event(event) {\n",
       "        return fig.toolbar_button_onmouseover(event['data']);\n",
       "    }\n",
       "\n",
       "    for(var toolbar_ind in mpl.toolbar_items) {\n",
       "        var name = mpl.toolbar_items[toolbar_ind][0];\n",
       "        var tooltip = mpl.toolbar_items[toolbar_ind][1];\n",
       "        var image = mpl.toolbar_items[toolbar_ind][2];\n",
       "        var method_name = mpl.toolbar_items[toolbar_ind][3];\n",
       "\n",
       "        if (!name) {\n",
       "            // put a spacer in here.\n",
       "            continue;\n",
       "        }\n",
       "        var button = $('<button/>');\n",
       "        button.addClass('ui-button ui-widget ui-state-default ui-corner-all ' +\n",
       "                        'ui-button-icon-only');\n",
       "        button.attr('role', 'button');\n",
       "        button.attr('aria-disabled', 'false');\n",
       "        button.click(method_name, toolbar_event);\n",
       "        button.mouseover(tooltip, toolbar_mouse_event);\n",
       "\n",
       "        var icon_img = $('<span/>');\n",
       "        icon_img.addClass('ui-button-icon-primary ui-icon');\n",
       "        icon_img.addClass(image);\n",
       "        icon_img.addClass('ui-corner-all');\n",
       "\n",
       "        var tooltip_span = $('<span/>');\n",
       "        tooltip_span.addClass('ui-button-text');\n",
       "        tooltip_span.html(tooltip);\n",
       "\n",
       "        button.append(icon_img);\n",
       "        button.append(tooltip_span);\n",
       "\n",
       "        nav_element.append(button);\n",
       "    }\n",
       "\n",
       "    var fmt_picker_span = $('<span/>');\n",
       "\n",
       "    var fmt_picker = $('<select/>');\n",
       "    fmt_picker.addClass('mpl-toolbar-option ui-widget ui-widget-content');\n",
       "    fmt_picker_span.append(fmt_picker);\n",
       "    nav_element.append(fmt_picker_span);\n",
       "    this.format_dropdown = fmt_picker[0];\n",
       "\n",
       "    for (var ind in mpl.extensions) {\n",
       "        var fmt = mpl.extensions[ind];\n",
       "        var option = $(\n",
       "            '<option/>', {selected: fmt === mpl.default_extension}).html(fmt);\n",
       "        fmt_picker.append(option)\n",
       "    }\n",
       "\n",
       "    // Add hover states to the ui-buttons\n",
       "    $( \".ui-button\" ).hover(\n",
       "        function() { $(this).addClass(\"ui-state-hover\");},\n",
       "        function() { $(this).removeClass(\"ui-state-hover\");}\n",
       "    );\n",
       "\n",
       "    var status_bar = $('<span class=\"mpl-message\"/>');\n",
       "    nav_element.append(status_bar);\n",
       "    this.message = status_bar[0];\n",
       "}\n",
       "\n",
       "mpl.figure.prototype.request_resize = function(x_pixels, y_pixels) {\n",
       "    // Request matplotlib to resize the figure. Matplotlib will then trigger a resize in the client,\n",
       "    // which will in turn request a refresh of the image.\n",
       "    this.send_message('resize', {'width': x_pixels, 'height': y_pixels});\n",
       "}\n",
       "\n",
       "mpl.figure.prototype.send_message = function(type, properties) {\n",
       "    properties['type'] = type;\n",
       "    properties['figure_id'] = this.id;\n",
       "    this.ws.send(JSON.stringify(properties));\n",
       "}\n",
       "\n",
       "mpl.figure.prototype.send_draw_message = function() {\n",
       "    if (!this.waiting) {\n",
       "        this.waiting = true;\n",
       "        this.ws.send(JSON.stringify({type: \"draw\", figure_id: this.id}));\n",
       "    }\n",
       "}\n",
       "\n",
       "\n",
       "mpl.figure.prototype.handle_save = function(fig, msg) {\n",
       "    var format_dropdown = fig.format_dropdown;\n",
       "    var format = format_dropdown.options[format_dropdown.selectedIndex].value;\n",
       "    fig.ondownload(fig, format);\n",
       "}\n",
       "\n",
       "\n",
       "mpl.figure.prototype.handle_resize = function(fig, msg) {\n",
       "    var size = msg['size'];\n",
       "    if (size[0] != fig.canvas.width || size[1] != fig.canvas.height) {\n",
       "        fig._resize_canvas(size[0], size[1]);\n",
       "        fig.send_message(\"refresh\", {});\n",
       "    };\n",
       "}\n",
       "\n",
       "mpl.figure.prototype.handle_rubberband = function(fig, msg) {\n",
       "    var x0 = msg['x0'] / mpl.ratio;\n",
       "    var y0 = (fig.canvas.height - msg['y0']) / mpl.ratio;\n",
       "    var x1 = msg['x1'] / mpl.ratio;\n",
       "    var y1 = (fig.canvas.height - msg['y1']) / mpl.ratio;\n",
       "    x0 = Math.floor(x0) + 0.5;\n",
       "    y0 = Math.floor(y0) + 0.5;\n",
       "    x1 = Math.floor(x1) + 0.5;\n",
       "    y1 = Math.floor(y1) + 0.5;\n",
       "    var min_x = Math.min(x0, x1);\n",
       "    var min_y = Math.min(y0, y1);\n",
       "    var width = Math.abs(x1 - x0);\n",
       "    var height = Math.abs(y1 - y0);\n",
       "\n",
       "    fig.rubberband_context.clearRect(\n",
       "        0, 0, fig.canvas.width, fig.canvas.height);\n",
       "\n",
       "    fig.rubberband_context.strokeRect(min_x, min_y, width, height);\n",
       "}\n",
       "\n",
       "mpl.figure.prototype.handle_figure_label = function(fig, msg) {\n",
       "    // Updates the figure title.\n",
       "    fig.header.textContent = msg['label'];\n",
       "}\n",
       "\n",
       "mpl.figure.prototype.handle_cursor = function(fig, msg) {\n",
       "    var cursor = msg['cursor'];\n",
       "    switch(cursor)\n",
       "    {\n",
       "    case 0:\n",
       "        cursor = 'pointer';\n",
       "        break;\n",
       "    case 1:\n",
       "        cursor = 'default';\n",
       "        break;\n",
       "    case 2:\n",
       "        cursor = 'crosshair';\n",
       "        break;\n",
       "    case 3:\n",
       "        cursor = 'move';\n",
       "        break;\n",
       "    }\n",
       "    fig.rubberband_canvas.style.cursor = cursor;\n",
       "}\n",
       "\n",
       "mpl.figure.prototype.handle_message = function(fig, msg) {\n",
       "    fig.message.textContent = msg['message'];\n",
       "}\n",
       "\n",
       "mpl.figure.prototype.handle_draw = function(fig, msg) {\n",
       "    // Request the server to send over a new figure.\n",
       "    fig.send_draw_message();\n",
       "}\n",
       "\n",
       "mpl.figure.prototype.handle_image_mode = function(fig, msg) {\n",
       "    fig.image_mode = msg['mode'];\n",
       "}\n",
       "\n",
       "mpl.figure.prototype.updated_canvas_event = function() {\n",
       "    // Called whenever the canvas gets updated.\n",
       "    this.send_message(\"ack\", {});\n",
       "}\n",
       "\n",
       "// A function to construct a web socket function for onmessage handling.\n",
       "// Called in the figure constructor.\n",
       "mpl.figure.prototype._make_on_message_function = function(fig) {\n",
       "    return function socket_on_message(evt) {\n",
       "        if (evt.data instanceof Blob) {\n",
       "            /* FIXME: We get \"Resource interpreted as Image but\n",
       "             * transferred with MIME type text/plain:\" errors on\n",
       "             * Chrome.  But how to set the MIME type?  It doesn't seem\n",
       "             * to be part of the websocket stream */\n",
       "            evt.data.type = \"image/png\";\n",
       "\n",
       "            /* Free the memory for the previous frames */\n",
       "            if (fig.imageObj.src) {\n",
       "                (window.URL || window.webkitURL).revokeObjectURL(\n",
       "                    fig.imageObj.src);\n",
       "            }\n",
       "\n",
       "            fig.imageObj.src = (window.URL || window.webkitURL).createObjectURL(\n",
       "                evt.data);\n",
       "            fig.updated_canvas_event();\n",
       "            fig.waiting = false;\n",
       "            return;\n",
       "        }\n",
       "        else if (typeof evt.data === 'string' && evt.data.slice(0, 21) == \"data:image/png;base64\") {\n",
       "            fig.imageObj.src = evt.data;\n",
       "            fig.updated_canvas_event();\n",
       "            fig.waiting = false;\n",
       "            return;\n",
       "        }\n",
       "\n",
       "        var msg = JSON.parse(evt.data);\n",
       "        var msg_type = msg['type'];\n",
       "\n",
       "        // Call the  \"handle_{type}\" callback, which takes\n",
       "        // the figure and JSON message as its only arguments.\n",
       "        try {\n",
       "            var callback = fig[\"handle_\" + msg_type];\n",
       "        } catch (e) {\n",
       "            console.log(\"No handler for the '\" + msg_type + \"' message type: \", msg);\n",
       "            return;\n",
       "        }\n",
       "\n",
       "        if (callback) {\n",
       "            try {\n",
       "                // console.log(\"Handling '\" + msg_type + \"' message: \", msg);\n",
       "                callback(fig, msg);\n",
       "            } catch (e) {\n",
       "                console.log(\"Exception inside the 'handler_\" + msg_type + \"' callback:\", e, e.stack, msg);\n",
       "            }\n",
       "        }\n",
       "    };\n",
       "}\n",
       "\n",
       "// from http://stackoverflow.com/questions/1114465/getting-mouse-location-in-canvas\n",
       "mpl.findpos = function(e) {\n",
       "    //this section is from http://www.quirksmode.org/js/events_properties.html\n",
       "    var targ;\n",
       "    if (!e)\n",
       "        e = window.event;\n",
       "    if (e.target)\n",
       "        targ = e.target;\n",
       "    else if (e.srcElement)\n",
       "        targ = e.srcElement;\n",
       "    if (targ.nodeType == 3) // defeat Safari bug\n",
       "        targ = targ.parentNode;\n",
       "\n",
       "    // jQuery normalizes the pageX and pageY\n",
       "    // pageX,Y are the mouse positions relative to the document\n",
       "    // offset() returns the position of the element relative to the document\n",
       "    var x = e.pageX - $(targ).offset().left;\n",
       "    var y = e.pageY - $(targ).offset().top;\n",
       "\n",
       "    return {\"x\": x, \"y\": y};\n",
       "};\n",
       "\n",
       "/*\n",
       " * return a copy of an object with only non-object keys\n",
       " * we need this to avoid circular references\n",
       " * http://stackoverflow.com/a/24161582/3208463\n",
       " */\n",
       "function simpleKeys (original) {\n",
       "  return Object.keys(original).reduce(function (obj, key) {\n",
       "    if (typeof original[key] !== 'object')\n",
       "        obj[key] = original[key]\n",
       "    return obj;\n",
       "  }, {});\n",
       "}\n",
       "\n",
       "mpl.figure.prototype.mouse_event = function(event, name) {\n",
       "    var canvas_pos = mpl.findpos(event)\n",
       "\n",
       "    if (name === 'button_press')\n",
       "    {\n",
       "        this.canvas.focus();\n",
       "        this.canvas_div.focus();\n",
       "    }\n",
       "\n",
       "    var x = canvas_pos.x * mpl.ratio;\n",
       "    var y = canvas_pos.y * mpl.ratio;\n",
       "\n",
       "    this.send_message(name, {x: x, y: y, button: event.button,\n",
       "                             step: event.step,\n",
       "                             guiEvent: simpleKeys(event)});\n",
       "\n",
       "    /* This prevents the web browser from automatically changing to\n",
       "     * the text insertion cursor when the button is pressed.  We want\n",
       "     * to control all of the cursor setting manually through the\n",
       "     * 'cursor' event from matplotlib */\n",
       "    event.preventDefault();\n",
       "    return false;\n",
       "}\n",
       "\n",
       "mpl.figure.prototype._key_event_extra = function(event, name) {\n",
       "    // Handle any extra behaviour associated with a key event\n",
       "}\n",
       "\n",
       "mpl.figure.prototype.key_event = function(event, name) {\n",
       "\n",
       "    // Prevent repeat events\n",
       "    if (name == 'key_press')\n",
       "    {\n",
       "        if (event.which === this._key)\n",
       "            return;\n",
       "        else\n",
       "            this._key = event.which;\n",
       "    }\n",
       "    if (name == 'key_release')\n",
       "        this._key = null;\n",
       "\n",
       "    var value = '';\n",
       "    if (event.ctrlKey && event.which != 17)\n",
       "        value += \"ctrl+\";\n",
       "    if (event.altKey && event.which != 18)\n",
       "        value += \"alt+\";\n",
       "    if (event.shiftKey && event.which != 16)\n",
       "        value += \"shift+\";\n",
       "\n",
       "    value += 'k';\n",
       "    value += event.which.toString();\n",
       "\n",
       "    this._key_event_extra(event, name);\n",
       "\n",
       "    this.send_message(name, {key: value,\n",
       "                             guiEvent: simpleKeys(event)});\n",
       "    return false;\n",
       "}\n",
       "\n",
       "mpl.figure.prototype.toolbar_button_onclick = function(name) {\n",
       "    if (name == 'download') {\n",
       "        this.handle_save(this, null);\n",
       "    } else {\n",
       "        this.send_message(\"toolbar_button\", {name: name});\n",
       "    }\n",
       "};\n",
       "\n",
       "mpl.figure.prototype.toolbar_button_onmouseover = function(tooltip) {\n",
       "    this.message.textContent = tooltip;\n",
       "};\n",
       "mpl.toolbar_items = [[\"Home\", \"Reset original view\", \"fa fa-home icon-home\", \"home\"], [\"Back\", \"Back to  previous view\", \"fa fa-arrow-left icon-arrow-left\", \"back\"], [\"Forward\", \"Forward to next view\", \"fa fa-arrow-right icon-arrow-right\", \"forward\"], [\"\", \"\", \"\", \"\"], [\"Pan\", \"Pan axes with left mouse, zoom with right\", \"fa fa-arrows icon-move\", \"pan\"], [\"Zoom\", \"Zoom to rectangle\", \"fa fa-square-o icon-check-empty\", \"zoom\"], [\"\", \"\", \"\", \"\"], [\"Download\", \"Download plot\", \"fa fa-floppy-o icon-save\", \"download\"]];\n",
       "\n",
       "mpl.extensions = [\"eps\", \"jpeg\", \"pdf\", \"png\", \"ps\", \"raw\", \"svg\", \"tif\"];\n",
       "\n",
       "mpl.default_extension = \"png\";var comm_websocket_adapter = function(comm) {\n",
       "    // Create a \"websocket\"-like object which calls the given IPython comm\n",
       "    // object with the appropriate methods. Currently this is a non binary\n",
       "    // socket, so there is still some room for performance tuning.\n",
       "    var ws = {};\n",
       "\n",
       "    ws.close = function() {\n",
       "        comm.close()\n",
       "    };\n",
       "    ws.send = function(m) {\n",
       "        //console.log('sending', m);\n",
       "        comm.send(m);\n",
       "    };\n",
       "    // Register the callback with on_msg.\n",
       "    comm.on_msg(function(msg) {\n",
       "        //console.log('receiving', msg['content']['data'], msg);\n",
       "        // Pass the mpl event to the overriden (by mpl) onmessage function.\n",
       "        ws.onmessage(msg['content']['data'])\n",
       "    });\n",
       "    return ws;\n",
       "}\n",
       "\n",
       "mpl.mpl_figure_comm = function(comm, msg) {\n",
       "    // This is the function which gets called when the mpl process\n",
       "    // starts-up an IPython Comm through the \"matplotlib\" channel.\n",
       "\n",
       "    var id = msg.content.data.id;\n",
       "    // Get hold of the div created by the display call when the Comm\n",
       "    // socket was opened in Python.\n",
       "    var element = $(\"#\" + id);\n",
       "    var ws_proxy = comm_websocket_adapter(comm)\n",
       "\n",
       "    function ondownload(figure, format) {\n",
       "        window.open(figure.imageObj.src);\n",
       "    }\n",
       "\n",
       "    var fig = new mpl.figure(id, ws_proxy,\n",
       "                           ondownload,\n",
       "                           element.get(0));\n",
       "\n",
       "    // Call onopen now - mpl needs it, as it is assuming we've passed it a real\n",
       "    // web socket which is closed, not our websocket->open comm proxy.\n",
       "    ws_proxy.onopen();\n",
       "\n",
       "    fig.parent_element = element.get(0);\n",
       "    fig.cell_info = mpl.find_output_cell(\"<div id='\" + id + \"'></div>\");\n",
       "    if (!fig.cell_info) {\n",
       "        console.error(\"Failed to find cell for figure\", id, fig);\n",
       "        return;\n",
       "    }\n",
       "\n",
       "    var output_index = fig.cell_info[2]\n",
       "    var cell = fig.cell_info[0];\n",
       "\n",
       "};\n",
       "\n",
       "mpl.figure.prototype.handle_close = function(fig, msg) {\n",
       "    var width = fig.canvas.width/mpl.ratio\n",
       "    fig.root.unbind('remove')\n",
       "\n",
       "    // Update the output cell to use the data from the current canvas.\n",
       "    fig.push_to_output();\n",
       "    var dataURL = fig.canvas.toDataURL();\n",
       "    // Re-enable the keyboard manager in IPython - without this line, in FF,\n",
       "    // the notebook keyboard shortcuts fail.\n",
       "    IPython.keyboard_manager.enable()\n",
       "    $(fig.parent_element).html('<img src=\"' + dataURL + '\" width=\"' + width + '\">');\n",
       "    fig.close_ws(fig, msg);\n",
       "}\n",
       "\n",
       "mpl.figure.prototype.close_ws = function(fig, msg){\n",
       "    fig.send_message('closing', msg);\n",
       "    // fig.ws.close()\n",
       "}\n",
       "\n",
       "mpl.figure.prototype.push_to_output = function(remove_interactive) {\n",
       "    // Turn the data on the canvas into data in the output cell.\n",
       "    var width = this.canvas.width/mpl.ratio\n",
       "    var dataURL = this.canvas.toDataURL();\n",
       "    this.cell_info[1]['text/html'] = '<img src=\"' + dataURL + '\" width=\"' + width + '\">';\n",
       "}\n",
       "\n",
       "mpl.figure.prototype.updated_canvas_event = function() {\n",
       "    // Tell IPython that the notebook contents must change.\n",
       "    IPython.notebook.set_dirty(true);\n",
       "    this.send_message(\"ack\", {});\n",
       "    var fig = this;\n",
       "    // Wait a second, then push the new image to the DOM so\n",
       "    // that it is saved nicely (might be nice to debounce this).\n",
       "    setTimeout(function () { fig.push_to_output() }, 1000);\n",
       "}\n",
       "\n",
       "mpl.figure.prototype._init_toolbar = function() {\n",
       "    var fig = this;\n",
       "\n",
       "    var nav_element = $('<div/>')\n",
       "    nav_element.attr('style', 'width: 100%');\n",
       "    this.root.append(nav_element);\n",
       "\n",
       "    // Define a callback function for later on.\n",
       "    function toolbar_event(event) {\n",
       "        return fig.toolbar_button_onclick(event['data']);\n",
       "    }\n",
       "    function toolbar_mouse_event(event) {\n",
       "        return fig.toolbar_button_onmouseover(event['data']);\n",
       "    }\n",
       "\n",
       "    for(var toolbar_ind in mpl.toolbar_items){\n",
       "        var name = mpl.toolbar_items[toolbar_ind][0];\n",
       "        var tooltip = mpl.toolbar_items[toolbar_ind][1];\n",
       "        var image = mpl.toolbar_items[toolbar_ind][2];\n",
       "        var method_name = mpl.toolbar_items[toolbar_ind][3];\n",
       "\n",
       "        if (!name) { continue; };\n",
       "\n",
       "        var button = $('<button class=\"btn btn-default\" href=\"#\" title=\"' + name + '\"><i class=\"fa ' + image + ' fa-lg\"></i></button>');\n",
       "        button.click(method_name, toolbar_event);\n",
       "        button.mouseover(tooltip, toolbar_mouse_event);\n",
       "        nav_element.append(button);\n",
       "    }\n",
       "\n",
       "    // Add the status bar.\n",
       "    var status_bar = $('<span class=\"mpl-message\" style=\"text-align:right; float: right;\"/>');\n",
       "    nav_element.append(status_bar);\n",
       "    this.message = status_bar[0];\n",
       "\n",
       "    // Add the close button to the window.\n",
       "    var buttongrp = $('<div class=\"btn-group inline pull-right\"></div>');\n",
       "    var button = $('<button class=\"btn btn-mini btn-primary\" href=\"#\" title=\"Stop Interaction\"><i class=\"fa fa-power-off icon-remove icon-large\"></i></button>');\n",
       "    button.click(function (evt) { fig.handle_close(fig, {}); } );\n",
       "    button.mouseover('Stop Interaction', toolbar_mouse_event);\n",
       "    buttongrp.append(button);\n",
       "    var titlebar = this.root.find($('.ui-dialog-titlebar'));\n",
       "    titlebar.prepend(buttongrp);\n",
       "}\n",
       "\n",
       "mpl.figure.prototype._root_extra_style = function(el){\n",
       "    var fig = this\n",
       "    el.on(\"remove\", function(){\n",
       "\tfig.close_ws(fig, {});\n",
       "    });\n",
       "}\n",
       "\n",
       "mpl.figure.prototype._canvas_extra_style = function(el){\n",
       "    // this is important to make the div 'focusable\n",
       "    el.attr('tabindex', 0)\n",
       "    // reach out to IPython and tell the keyboard manager to turn it's self\n",
       "    // off when our div gets focus\n",
       "\n",
       "    // location in version 3\n",
       "    if (IPython.notebook.keyboard_manager) {\n",
       "        IPython.notebook.keyboard_manager.register_events(el);\n",
       "    }\n",
       "    else {\n",
       "        // location in version 2\n",
       "        IPython.keyboard_manager.register_events(el);\n",
       "    }\n",
       "\n",
       "}\n",
       "\n",
       "mpl.figure.prototype._key_event_extra = function(event, name) {\n",
       "    var manager = IPython.notebook.keyboard_manager;\n",
       "    if (!manager)\n",
       "        manager = IPython.keyboard_manager;\n",
       "\n",
       "    // Check for shift+enter\n",
       "    if (event.shiftKey && event.which == 13) {\n",
       "        this.canvas_div.blur();\n",
       "        // select the cell after this one\n",
       "        var index = IPython.notebook.find_cell_index(this.cell_info[0]);\n",
       "        IPython.notebook.select(index + 1);\n",
       "    }\n",
       "}\n",
       "\n",
       "mpl.figure.prototype.handle_save = function(fig, msg) {\n",
       "    fig.ondownload(fig, null);\n",
       "}\n",
       "\n",
       "\n",
       "mpl.find_output_cell = function(html_output) {\n",
       "    // Return the cell and output element which can be found *uniquely* in the notebook.\n",
       "    // Note - this is a bit hacky, but it is done because the \"notebook_saving.Notebook\"\n",
       "    // IPython event is triggered only after the cells have been serialised, which for\n",
       "    // our purposes (turning an active figure into a static one), is too late.\n",
       "    var cells = IPython.notebook.get_cells();\n",
       "    var ncells = cells.length;\n",
       "    for (var i=0; i<ncells; i++) {\n",
       "        var cell = cells[i];\n",
       "        if (cell.cell_type === 'code'){\n",
       "            for (var j=0; j<cell.output_area.outputs.length; j++) {\n",
       "                var data = cell.output_area.outputs[j];\n",
       "                if (data.data) {\n",
       "                    // IPython >= 3 moved mimebundle to data attribute of output\n",
       "                    data = data.data;\n",
       "                }\n",
       "                if (data['text/html'] == html_output) {\n",
       "                    return [cell, data, j];\n",
       "                }\n",
       "            }\n",
       "        }\n",
       "    }\n",
       "}\n",
       "\n",
       "// Register the function which deals with the matplotlib target/channel.\n",
       "// The kernel may be null if the page has been refreshed.\n",
       "if (IPython.notebook.kernel != null) {\n",
       "    IPython.notebook.kernel.comm_manager.register_target('matplotlib', mpl.mpl_figure_comm);\n",
       "}\n"
      ],
      "text/plain": [
       "<IPython.core.display.Javascript object>"
      ]
     },
     "metadata": {},
     "output_type": "display_data"
    },
    {
     "data": {
      "text/html": [
       "<img src=\"data:image/png;base64,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\" width=\"640\">"
      ],
      "text/plain": [
       "<IPython.core.display.HTML object>"
      ]
     },
     "metadata": {},
     "output_type": "display_data"
    },
    {
     "data": {
      "text/plain": [
       "<ndcube.visualization.animation.ImageAnimatorNDCubeSequence at 0x20fd55f60>"
      ]
     },
     "execution_count": 10,
     "metadata": {},
     "output_type": "execute_result"
    }
   ],
   "source": [
    "%matplotlib notebook\n",
    "sg.data[\"C II 1336\"].plot()"
   ]
  },
  {
   "cell_type": "markdown",
   "metadata": {
    "collapsed": false,
    "scrolled": false
   },
   "source": [
    "## Indexing/Slicing Data for One Spectral Window"
   ]
  },
  {
   "cell_type": "markdown",
   "metadata": {},
   "source": [
    "### Slice by Exposure number (Default)\n",
    "By default we index the SpectrogramSequence as though it has three dimensions: exposure number, position along slit, and wavelength. (In accordance with the dimensions attribute.) Let us slice by the 3rd exposure, 120th to 170th pixels along slit, and the 75th to 175 wavelength pixels.\n",
    "This will return a spectrogram which is represented as an NDCube object."
   ]
  },
  {
   "cell_type": "code",
   "execution_count": 11,
   "metadata": {
    "collapsed": false
   },
   "outputs": [
    {
     "data": {
      "text/plain": [
       "Sunpy NDCube\n",
       "---------------------\n",
       "WCS Keywords\n",
       "\n",
       "Number of WCS axes: 3\n",
       "CTYPE : 'WAVE'  'HPLT-TAN'  'HPLN-TAN'  \n",
       "CRVAL : 1.33275413016e-07  0.070423888888888897  -0.04885833333333333  \n",
       "CRPIX : -74.0  80.5  5.0  \n",
       "PC1_1 PC1_2 PC1_3  : 1.0  0.0  0.0  \n",
       "PC2_1 PC2_2 PC2_3  : 0.0  0.99993872642500004  -0.0236807777419  \n",
       "PC3_1 PC3_2 PC3_3  : 0.0  0.0053738806049599998  0.99993872642500004  \n",
       "CDELT : 2.5960000231900002e-12  4.6208333333333329e-05  9.7000572416388892e-05  \n",
       "NAXIS : 100  50  1\n",
       "---------------------\n",
       "Length of NDCube: [  50.  100.] pix\n",
       "Axis Types of NDCube: ['HPLT-TAN', 'WAVE']"
      ]
     },
     "execution_count": 11,
     "metadata": {},
     "output_type": "execute_result"
    }
   ],
   "source": [
    "sg.data[\"C II 1336\"][3, 120:170, 75:175]"
   ]
  },
  {
   "cell_type": "markdown",
   "metadata": {},
   "source": [
    "We can produce a quicklook of this data by again using the plot attribute. However, because the slice we are plotting is 2D, the plot attribute will return a 2D plot rather than an animation."
   ]
  },
  {
   "cell_type": "code",
   "execution_count": 19,
   "metadata": {
    "collapsed": false
   },
   "outputs": [
    {
     "data": {
      "text/plain": [
       "<matplotlib.image.AxesImage at 0x36b46dd30>"
      ]
     },
     "execution_count": 19,
     "metadata": {},
     "output_type": "execute_result"
    },
    {
     "data": {
      "image/png": "[encoded data removed]",
      "text/plain": [
       "<matplotlib.figure.Figure at 0x383e75da0>"
      ]
     },
     "metadata": {},
     "output_type": "display_data"
    }
   ],
   "source": [
    "%matplotlib inline\n",
    "sg.data[\"C II 1336\"][3, 120:170, 75:175].plot()"
   ]
  },
  {
   "cell_type": "markdown",
   "metadata": {},
   "source": [
    "**N.B.** It is important to slice the SpectrogramSequence or NDCube objects as above rather than finding the numpy array stored within and slicing that manually. By slicing the whole object, not only is the data sliced, but other associated data like the WCS translations, data mask, uncertainty array etc. are sliced correspondingly and kept consistent. Digging into the object, pulling data out and then slicing it, may either break or render inaccurate a lot of the functionality associated with these objects. See Section \"More on NDCube\" to learn more about these associated data."
   ]
  },
  {
   "cell_type": "markdown",
   "metadata": {},
   "source": [
    "## Slice by Raster\n",
    "If we prefer, we can also slice by raster scan number and raster position, instead of just exposure number. This means we are slicing the data in a pseudo-4D fashion: raster scan number raster position, position along slit, wavelength.\n",
    "To do this, we slice/index the index_by_raster attribute rather than the object. Let us get the same region as above but indexing by raster. There are 8 positions in each raster in this OBS. So the third exposure corresponds to the 0th raster scan and the third raster position within that scan."
   ]
  },
  {
   "cell_type": "code",
   "execution_count": 13,
   "metadata": {
    "collapsed": false
   },
   "outputs": [
    {
     "data": {
      "text/plain": [
       "Sunpy NDCube\n",
       "---------------------\n",
       "WCS Keywords\n",
       "\n",
       "Number of WCS axes: 3\n",
       "CTYPE : 'WAVE'  'HPLT-TAN'  'HPLN-TAN'  \n",
       "CRVAL : 1.33275413016e-07  0.070423888888888897  -0.04885833333333333  \n",
       "CRPIX : -74.0  80.5  5.0  \n",
       "PC1_1 PC1_2 PC1_3  : 1.0  0.0  0.0  \n",
       "PC2_1 PC2_2 PC2_3  : 0.0  0.99993872642500004  -0.0236807777419  \n",
       "PC3_1 PC3_2 PC3_3  : 0.0  0.0053738806049599998  0.99993872642500004  \n",
       "CDELT : 2.5960000231900002e-12  4.6208333333333329e-05  9.7000572416388892e-05  \n",
       "NAXIS : 100  50  1\n",
       "---------------------\n",
       "Length of NDCube: [  50.  100.] pix\n",
       "Axis Types of NDCube: ['HPLT-TAN', 'WAVE']"
      ]
     },
     "execution_count": 13,
     "metadata": {},
     "output_type": "execute_result"
    }
   ],
   "source": [
    "sg.data[\"C II 1336\"].index_by_raster[0, 3, 120:170, 75:175]"
   ]
  },
  {
   "cell_type": "markdown",
   "metadata": {},
   "source": [
    "This has returned the same NDCube as before.  We can confirm this by plotting it as before"
   ]
  },
  {
   "cell_type": "code",
   "execution_count": 57,
   "metadata": {
    "collapsed": false
   },
   "outputs": [
    {
     "data": {
      "text/plain": [
       "<matplotlib.image.AxesImage at 0x1230f9358>"
      ]
     },
     "execution_count": 57,
     "metadata": {},
     "output_type": "execute_result"
    },
    {
     "data": {
      "image/png": "[encoded data removed]",
      "text/plain": [
       "<matplotlib.figure.Figure at 0x3748d4cf8>"
      ]
     },
     "metadata": {},
     "output_type": "display_data"
    }
   ],
   "source": [
    "sg.data[\"C II 1336\"].index_by_raster[0, :, :, 120].plot()"
   ]
  },
  {
   "cell_type": "markdown",
   "metadata": {
    "collapsed": true
   },
   "source": [
    "## Extra Coordinates\n",
    "Although the exposure number/raster position axis corresponds to helioprojected longitude in the WCS object, it also corresponds to time. The extra coordinate systems associated with this axis are provided in a dictionary labeled exposure_axis_extra_coords."
   ]
  },
  {
   "cell_type": "code",
   "execution_count": 21,
   "metadata": {
    "collapsed": false,
    "scrolled": true
   },
   "outputs": [
    {
     "data": {
      "text/plain": [
       "{'raster position': array([ 0,  1,  2, ..., 13, 14, 15]),\n",
       " 'time': array([datetime.datetime(2017, 5, 2, 9, 57, 34, 930000),\n",
       "        datetime.datetime(2017, 5, 2, 9, 57, 37, 190000),\n",
       "        datetime.datetime(2017, 5, 2, 9, 57, 39, 370000), ...,\n",
       "        datetime.datetime(2017, 5, 2, 11, 8, 7, 720000),\n",
       "        datetime.datetime(2017, 5, 2, 11, 8, 9, 900000),\n",
       "        datetime.datetime(2017, 5, 2, 11, 8, 11, 980000)], dtype=object)}"
      ]
     },
     "execution_count": 21,
     "metadata": {},
     "output_type": "execute_result"
    }
   ],
   "source": [
    "sg.data[\"C II 1336\"].exposure_axis_extra_coords"
   ]
  },
  {
   "cell_type": "markdown",
   "metadata": {},
   "source": [
    "## More on NDCube"
   ]
  },
  {
   "cell_type": "markdown",
   "metadata": {},
   "source": [
    "```NDCube``` is the fundamental data object used in ```IRISSpectrograph```.  It holds an N-D data array and WCS object that holds the translations from pixel to real world coordinates.  It is subclassed from astropy NDData.  So it has the additional options to store a data mask, an uncertainty array giving the uncertainty of each value in the data array, etc.\n",
    "\n",
    "**N.B.**: It is for this reason that it is important to interact/slice with ```NDCube``` objects as a whole.  It is highly discouraged to pull out the numpy data arrays and slice them if you want to use any of the functionality of NDCube afterwards.\n",
    "\n",
    "**For the Interested Reader**: The relationship between ```NDCube``` and ```IRISSpectrograph``` is as follows:\n",
    "* Spectrograms or cubes of spectrograms, one for each raster or sit-and-stare, are held in ```NDCube```s.\n",
    "* ```NDCube```s are held within ```NDCubeSequence``` objects.  An NDCubeSequence is a list of ```NDCube```s with quicklook plotting, comprehensive slicing/indexing, and some convenience functions.  As an aside, as with ```NDCube```, it is important to slice/index an ```NDCubeSequence``` object as a whole, rather than trying to pull out the list of ```NDCube```s and slicing that manually.\n",
    "* Data from a single spectral window is stored in ```SpectrogramSequence``` objects which are subclassed from ```NDCubeSequence```.  ```SpectrogramSequence``` is specific to spectrogram data and so can make some assumptions about the nature of the data, allowing it to be better tailored than ```NDCubeSequence```.  As above, it is important to slice/index the ```SpectrogramSequence``` object as a whole.  It is discouraged to pull out the data and slice that manually.\n",
    "* ```SpectrogramSequence```s for all the spectral windows are stored as a dictionary in the ```IRISSpectrograph.data``` attribute."
   ]
  },
  {
   "cell_type": "markdown",
   "metadata": {},
   "source": [
    "### Create an NDCube object independently"
   ]
  },
  {
   "cell_type": "code",
   "execution_count": 60,
   "metadata": {
    "collapsed": false
   },
   "outputs": [],
   "source": [
    "hdulist = fits.open(os.path.join(file_path, files[0]))\n",
    "data = hdulist[1].data\n",
    "wcs_ = WCS(hdulist[1].header)\n",
    "ndc = NDCube(data, wcs=wcs_)\n",
    "hdulist.close()"
   ]
  },
  {
   "cell_type": "markdown",
   "metadata": {
    "collapsed": false
   },
   "source": [
    "### NDCube plotting\n",
    "The NDCube.plot attribute provides the plotting functionality for both itself and other objects including NDCubeSequence, SpectrogramSequence, and hence IRISSpectrograph. It is a powerful quicklook functionality because with one API, it will provide an animation if the data is >2D with a slider for each additional dimension over 2D, an image if the data is 2D, and a line plot if the data is 1D. And because slicing an NDCube returns a new NDCube, plot can be called on slices of an NDCube."
   ]
  },
  {
   "cell_type": "code",
   "execution_count": 61,
   "metadata": {
    "collapsed": false
   },
   "outputs": [
    {
     "data": {
      "text/plain": [
       "DimensionPair(shape=<Quantity [  16., 400., 182.] pix>, axis_types=['HPLN-TAN', 'HPLT-TAN', 'WAVE'])"
      ]
     },
     "execution_count": 61,
     "metadata": {},
     "output_type": "execute_result"
    }
   ],
   "source": [
    "# 3D data\n",
    "ndc.dimensions"
   ]
  },
  {
   "cell_type": "code",
   "execution_count": 73,
   "metadata": {
    "collapsed": false
   },
   "outputs": [
    {
     "data": {
      "application/javascript": [
       "/* Put everything inside the global mpl namespace */\n",
       "window.mpl = {};\n",
       "\n",
       "\n",
       "mpl.get_websocket_type = function() {\n",
       "    if (typeof(WebSocket) !== 'undefined') {\n",
       "        return WebSocket;\n",
       "    } else if (typeof(MozWebSocket) !== 'undefined') {\n",
       "        return MozWebSocket;\n",
       "    } else {\n",
       "        alert('Your browser does not have WebSocket support.' +\n",
       "              'Please try Chrome, Safari or Firefox ≥ 6. ' +\n",
       "              'Firefox 4 and 5 are also supported but you ' +\n",
       "              'have to enable WebSockets in about:config.');\n",
       "    };\n",
       "}\n",
       "\n",
       "mpl.figure = function(figure_id, websocket, ondownload, parent_element) {\n",
       "    this.id = figure_id;\n",
       "\n",
       "    this.ws = websocket;\n",
       "\n",
       "    this.supports_binary = (this.ws.binaryType != undefined);\n",
       "\n",
       "    if (!this.supports_binary) {\n",
       "        var warnings = document.getElementById(\"mpl-warnings\");\n",
       "        if (warnings) {\n",
       "            warnings.style.display = 'block';\n",
       "            warnings.textContent = (\n",
       "                \"This browser does not support binary websocket messages. \" +\n",
       "                    \"Performance may be slow.\");\n",
       "        }\n",
       "    }\n",
       "\n",
       "    this.imageObj = new Image();\n",
       "\n",
       "    this.context = undefined;\n",
       "    this.message = undefined;\n",
       "    this.canvas = undefined;\n",
       "    this.rubberband_canvas = undefined;\n",
       "    this.rubberband_context = undefined;\n",
       "    this.format_dropdown = undefined;\n",
       "\n",
       "    this.image_mode = 'full';\n",
       "\n",
       "    this.root = $('<div/>');\n",
       "    this._root_extra_style(this.root)\n",
       "    this.root.attr('style', 'display: inline-block');\n",
       "\n",
       "    $(parent_element).append(this.root);\n",
       "\n",
       "    this._init_header(this);\n",
       "    this._init_canvas(this);\n",
       "    this._init_toolbar(this);\n",
       "\n",
       "    var fig = this;\n",
       "\n",
       "    this.waiting = false;\n",
       "\n",
       "    this.ws.onopen =  function () {\n",
       "            fig.send_message(\"supports_binary\", {value: fig.supports_binary});\n",
       "            fig.send_message(\"send_image_mode\", {});\n",
       "            if (mpl.ratio != 1) {\n",
       "                fig.send_message(\"set_dpi_ratio\", {'dpi_ratio': mpl.ratio});\n",
       "            }\n",
       "            fig.send_message(\"refresh\", {});\n",
       "        }\n",
       "\n",
       "    this.imageObj.onload = function() {\n",
       "            if (fig.image_mode == 'full') {\n",
       "                // Full images could contain transparency (where diff images\n",
       "                // almost always do), so we need to clear the canvas so that\n",
       "                // there is no ghosting.\n",
       "                fig.context.clearRect(0, 0, fig.canvas.width, fig.canvas.height);\n",
       "            }\n",
       "            fig.context.drawImage(fig.imageObj, 0, 0);\n",
       "        };\n",
       "\n",
       "    this.imageObj.onunload = function() {\n",
       "        this.ws.close();\n",
       "    }\n",
       "\n",
       "    this.ws.onmessage = this._make_on_message_function(this);\n",
       "\n",
       "    this.ondownload = ondownload;\n",
       "}\n",
       "\n",
       "mpl.figure.prototype._init_header = function() {\n",
       "    var titlebar = $(\n",
       "        '<div class=\"ui-dialog-titlebar ui-widget-header ui-corner-all ' +\n",
       "        'ui-helper-clearfix\"/>');\n",
       "    var titletext = $(\n",
       "        '<div class=\"ui-dialog-title\" style=\"width: 100%; ' +\n",
       "        'text-align: center; padding: 3px;\"/>');\n",
       "    titlebar.append(titletext)\n",
       "    this.root.append(titlebar);\n",
       "    this.header = titletext[0];\n",
       "}\n",
       "\n",
       "\n",
       "\n",
       "mpl.figure.prototype._canvas_extra_style = function(canvas_div) {\n",
       "\n",
       "}\n",
       "\n",
       "\n",
       "mpl.figure.prototype._root_extra_style = function(canvas_div) {\n",
       "\n",
       "}\n",
       "\n",
       "mpl.figure.prototype._init_canvas = function() {\n",
       "    var fig = this;\n",
       "\n",
       "    var canvas_div = $('<div/>');\n",
       "\n",
       "    canvas_div.attr('style', 'position: relative; clear: both; outline: 0');\n",
       "\n",
       "    function canvas_keyboard_event(event) {\n",
       "        return fig.key_event(event, event['data']);\n",
       "    }\n",
       "\n",
       "    canvas_div.keydown('key_press', canvas_keyboard_event);\n",
       "    canvas_div.keyup('key_release', canvas_keyboard_event);\n",
       "    this.canvas_div = canvas_div\n",
       "    this._canvas_extra_style(canvas_div)\n",
       "    this.root.append(canvas_div);\n",
       "\n",
       "    var canvas = $('<canvas/>');\n",
       "    canvas.addClass('mpl-canvas');\n",
       "    canvas.attr('style', \"left: 0; top: 0; z-index: 0; outline: 0\")\n",
       "\n",
       "    this.canvas = canvas[0];\n",
       "    this.context = canvas[0].getContext(\"2d\");\n",
       "\n",
       "    var backingStore = this.context.backingStorePixelRatio ||\n",
       "\tthis.context.webkitBackingStorePixelRatio ||\n",
       "\tthis.context.mozBackingStorePixelRatio ||\n",
       "\tthis.context.msBackingStorePixelRatio ||\n",
       "\tthis.context.oBackingStorePixelRatio ||\n",
       "\tthis.context.backingStorePixelRatio || 1;\n",
       "\n",
       "    mpl.ratio = (window.devicePixelRatio || 1) / backingStore;\n",
       "\n",
       "    var rubberband = $('<canvas/>');\n",
       "    rubberband.attr('style', \"position: absolute; left: 0; top: 0; z-index: 1;\")\n",
       "\n",
       "    var pass_mouse_events = true;\n",
       "\n",
       "    canvas_div.resizable({\n",
       "        start: function(event, ui) {\n",
       "            pass_mouse_events = false;\n",
       "        },\n",
       "        resize: function(event, ui) {\n",
       "            fig.request_resize(ui.size.width, ui.size.height);\n",
       "        },\n",
       "        stop: function(event, ui) {\n",
       "            pass_mouse_events = true;\n",
       "            fig.request_resize(ui.size.width, ui.size.height);\n",
       "        },\n",
       "    });\n",
       "\n",
       "    function mouse_event_fn(event) {\n",
       "        if (pass_mouse_events)\n",
       "            return fig.mouse_event(event, event['data']);\n",
       "    }\n",
       "\n",
       "    rubberband.mousedown('button_press', mouse_event_fn);\n",
       "    rubberband.mouseup('button_release', mouse_event_fn);\n",
       "    // Throttle sequential mouse events to 1 every 20ms.\n",
       "    rubberband.mousemove('motion_notify', mouse_event_fn);\n",
       "\n",
       "    rubberband.mouseenter('figure_enter', mouse_event_fn);\n",
       "    rubberband.mouseleave('figure_leave', mouse_event_fn);\n",
       "\n",
       "    canvas_div.on(\"wheel\", function (event) {\n",
       "        event = event.originalEvent;\n",
       "        event['data'] = 'scroll'\n",
       "        if (event.deltaY < 0) {\n",
       "            event.step = 1;\n",
       "        } else {\n",
       "            event.step = -1;\n",
       "        }\n",
       "        mouse_event_fn(event);\n",
       "    });\n",
       "\n",
       "    canvas_div.append(canvas);\n",
       "    canvas_div.append(rubberband);\n",
       "\n",
       "    this.rubberband = rubberband;\n",
       "    this.rubberband_canvas = rubberband[0];\n",
       "    this.rubberband_context = rubberband[0].getContext(\"2d\");\n",
       "    this.rubberband_context.strokeStyle = \"#000000\";\n",
       "\n",
       "    this._resize_canvas = function(width, height) {\n",
       "        // Keep the size of the canvas, canvas container, and rubber band\n",
       "        // canvas in synch.\n",
       "        canvas_div.css('width', width)\n",
       "        canvas_div.css('height', height)\n",
       "\n",
       "        canvas.attr('width', width * mpl.ratio);\n",
       "        canvas.attr('height', height * mpl.ratio);\n",
       "        canvas.attr('style', 'width: ' + width + 'px; height: ' + height + 'px;');\n",
       "\n",
       "        rubberband.attr('width', width);\n",
       "        rubberband.attr('height', height);\n",
       "    }\n",
       "\n",
       "    // Set the figure to an initial 600x600px, this will subsequently be updated\n",
       "    // upon first draw.\n",
       "    this._resize_canvas(600, 600);\n",
       "\n",
       "    // Disable right mouse context menu.\n",
       "    $(this.rubberband_canvas).bind(\"contextmenu\",function(e){\n",
       "        return false;\n",
       "    });\n",
       "\n",
       "    function set_focus () {\n",
       "        canvas.focus();\n",
       "        canvas_div.focus();\n",
       "    }\n",
       "\n",
       "    window.setTimeout(set_focus, 100);\n",
       "}\n",
       "\n",
       "mpl.figure.prototype._init_toolbar = function() {\n",
       "    var fig = this;\n",
       "\n",
       "    var nav_element = $('<div/>')\n",
       "    nav_element.attr('style', 'width: 100%');\n",
       "    this.root.append(nav_element);\n",
       "\n",
       "    // Define a callback function for later on.\n",
       "    function toolbar_event(event) {\n",
       "        return fig.toolbar_button_onclick(event['data']);\n",
       "    }\n",
       "    function toolbar_mouse_event(event) {\n",
       "        return fig.toolbar_button_onmouseover(event['data']);\n",
       "    }\n",
       "\n",
       "    for(var toolbar_ind in mpl.toolbar_items) {\n",
       "        var name = mpl.toolbar_items[toolbar_ind][0];\n",
       "        var tooltip = mpl.toolbar_items[toolbar_ind][1];\n",
       "        var image = mpl.toolbar_items[toolbar_ind][2];\n",
       "        var method_name = mpl.toolbar_items[toolbar_ind][3];\n",
       "\n",
       "        if (!name) {\n",
       "            // put a spacer in here.\n",
       "            continue;\n",
       "        }\n",
       "        var button = $('<button/>');\n",
       "        button.addClass('ui-button ui-widget ui-state-default ui-corner-all ' +\n",
       "                        'ui-button-icon-only');\n",
       "        button.attr('role', 'button');\n",
       "        button.attr('aria-disabled', 'false');\n",
       "        button.click(method_name, toolbar_event);\n",
       "        button.mouseover(tooltip, toolbar_mouse_event);\n",
       "\n",
       "        var icon_img = $('<span/>');\n",
       "        icon_img.addClass('ui-button-icon-primary ui-icon');\n",
       "        icon_img.addClass(image);\n",
       "        icon_img.addClass('ui-corner-all');\n",
       "\n",
       "        var tooltip_span = $('<span/>');\n",
       "        tooltip_span.addClass('ui-button-text');\n",
       "        tooltip_span.html(tooltip);\n",
       "\n",
       "        button.append(icon_img);\n",
       "        button.append(tooltip_span);\n",
       "\n",
       "        nav_element.append(button);\n",
       "    }\n",
       "\n",
       "    var fmt_picker_span = $('<span/>');\n",
       "\n",
       "    var fmt_picker = $('<select/>');\n",
       "    fmt_picker.addClass('mpl-toolbar-option ui-widget ui-widget-content');\n",
       "    fmt_picker_span.append(fmt_picker);\n",
       "    nav_element.append(fmt_picker_span);\n",
       "    this.format_dropdown = fmt_picker[0];\n",
       "\n",
       "    for (var ind in mpl.extensions) {\n",
       "        var fmt = mpl.extensions[ind];\n",
       "        var option = $(\n",
       "            '<option/>', {selected: fmt === mpl.default_extension}).html(fmt);\n",
       "        fmt_picker.append(option)\n",
       "    }\n",
       "\n",
       "    // Add hover states to the ui-buttons\n",
       "    $( \".ui-button\" ).hover(\n",
       "        function() { $(this).addClass(\"ui-state-hover\");},\n",
       "        function() { $(this).removeClass(\"ui-state-hover\");}\n",
       "    );\n",
       "\n",
       "    var status_bar = $('<span class=\"mpl-message\"/>');\n",
       "    nav_element.append(status_bar);\n",
       "    this.message = status_bar[0];\n",
       "}\n",
       "\n",
       "mpl.figure.prototype.request_resize = function(x_pixels, y_pixels) {\n",
       "    // Request matplotlib to resize the figure. Matplotlib will then trigger a resize in the client,\n",
       "    // which will in turn request a refresh of the image.\n",
       "    this.send_message('resize', {'width': x_pixels, 'height': y_pixels});\n",
       "}\n",
       "\n",
       "mpl.figure.prototype.send_message = function(type, properties) {\n",
       "    properties['type'] = type;\n",
       "    properties['figure_id'] = this.id;\n",
       "    this.ws.send(JSON.stringify(properties));\n",
       "}\n",
       "\n",
       "mpl.figure.prototype.send_draw_message = function() {\n",
       "    if (!this.waiting) {\n",
       "        this.waiting = true;\n",
       "        this.ws.send(JSON.stringify({type: \"draw\", figure_id: this.id}));\n",
       "    }\n",
       "}\n",
       "\n",
       "\n",
       "mpl.figure.prototype.handle_save = function(fig, msg) {\n",
       "    var format_dropdown = fig.format_dropdown;\n",
       "    var format = format_dropdown.options[format_dropdown.selectedIndex].value;\n",
       "    fig.ondownload(fig, format);\n",
       "}\n",
       "\n",
       "\n",
       "mpl.figure.prototype.handle_resize = function(fig, msg) {\n",
       "    var size = msg['size'];\n",
       "    if (size[0] != fig.canvas.width || size[1] != fig.canvas.height) {\n",
       "        fig._resize_canvas(size[0], size[1]);\n",
       "        fig.send_message(\"refresh\", {});\n",
       "    };\n",
       "}\n",
       "\n",
       "mpl.figure.prototype.handle_rubberband = function(fig, msg) {\n",
       "    var x0 = msg['x0'] / mpl.ratio;\n",
       "    var y0 = (fig.canvas.height - msg['y0']) / mpl.ratio;\n",
       "    var x1 = msg['x1'] / mpl.ratio;\n",
       "    var y1 = (fig.canvas.height - msg['y1']) / mpl.ratio;\n",
       "    x0 = Math.floor(x0) + 0.5;\n",
       "    y0 = Math.floor(y0) + 0.5;\n",
       "    x1 = Math.floor(x1) + 0.5;\n",
       "    y1 = Math.floor(y1) + 0.5;\n",
       "    var min_x = Math.min(x0, x1);\n",
       "    var min_y = Math.min(y0, y1);\n",
       "    var width = Math.abs(x1 - x0);\n",
       "    var height = Math.abs(y1 - y0);\n",
       "\n",
       "    fig.rubberband_context.clearRect(\n",
       "        0, 0, fig.canvas.width, fig.canvas.height);\n",
       "\n",
       "    fig.rubberband_context.strokeRect(min_x, min_y, width, height);\n",
       "}\n",
       "\n",
       "mpl.figure.prototype.handle_figure_label = function(fig, msg) {\n",
       "    // Updates the figure title.\n",
       "    fig.header.textContent = msg['label'];\n",
       "}\n",
       "\n",
       "mpl.figure.prototype.handle_cursor = function(fig, msg) {\n",
       "    var cursor = msg['cursor'];\n",
       "    switch(cursor)\n",
       "    {\n",
       "    case 0:\n",
       "        cursor = 'pointer';\n",
       "        break;\n",
       "    case 1:\n",
       "        cursor = 'default';\n",
       "        break;\n",
       "    case 2:\n",
       "        cursor = 'crosshair';\n",
       "        break;\n",
       "    case 3:\n",
       "        cursor = 'move';\n",
       "        break;\n",
       "    }\n",
       "    fig.rubberband_canvas.style.cursor = cursor;\n",
       "}\n",
       "\n",
       "mpl.figure.prototype.handle_message = function(fig, msg) {\n",
       "    fig.message.textContent = msg['message'];\n",
       "}\n",
       "\n",
       "mpl.figure.prototype.handle_draw = function(fig, msg) {\n",
       "    // Request the server to send over a new figure.\n",
       "    fig.send_draw_message();\n",
       "}\n",
       "\n",
       "mpl.figure.prototype.handle_image_mode = function(fig, msg) {\n",
       "    fig.image_mode = msg['mode'];\n",
       "}\n",
       "\n",
       "mpl.figure.prototype.updated_canvas_event = function() {\n",
       "    // Called whenever the canvas gets updated.\n",
       "    this.send_message(\"ack\", {});\n",
       "}\n",
       "\n",
       "// A function to construct a web socket function for onmessage handling.\n",
       "// Called in the figure constructor.\n",
       "mpl.figure.prototype._make_on_message_function = function(fig) {\n",
       "    return function socket_on_message(evt) {\n",
       "        if (evt.data instanceof Blob) {\n",
       "            /* FIXME: We get \"Resource interpreted as Image but\n",
       "             * transferred with MIME type text/plain:\" errors on\n",
       "             * Chrome.  But how to set the MIME type?  It doesn't seem\n",
       "             * to be part of the websocket stream */\n",
       "            evt.data.type = \"image/png\";\n",
       "\n",
       "            /* Free the memory for the previous frames */\n",
       "            if (fig.imageObj.src) {\n",
       "                (window.URL || window.webkitURL).revokeObjectURL(\n",
       "                    fig.imageObj.src);\n",
       "            }\n",
       "\n",
       "            fig.imageObj.src = (window.URL || window.webkitURL).createObjectURL(\n",
       "                evt.data);\n",
       "            fig.updated_canvas_event();\n",
       "            fig.waiting = false;\n",
       "            return;\n",
       "        }\n",
       "        else if (typeof evt.data === 'string' && evt.data.slice(0, 21) == \"data:image/png;base64\") {\n",
       "            fig.imageObj.src = evt.data;\n",
       "            fig.updated_canvas_event();\n",
       "            fig.waiting = false;\n",
       "            return;\n",
       "        }\n",
       "\n",
       "        var msg = JSON.parse(evt.data);\n",
       "        var msg_type = msg['type'];\n",
       "\n",
       "        // Call the  \"handle_{type}\" callback, which takes\n",
       "        // the figure and JSON message as its only arguments.\n",
       "        try {\n",
       "            var callback = fig[\"handle_\" + msg_type];\n",
       "        } catch (e) {\n",
       "            console.log(\"No handler for the '\" + msg_type + \"' message type: \", msg);\n",
       "            return;\n",
       "        }\n",
       "\n",
       "        if (callback) {\n",
       "            try {\n",
       "                // console.log(\"Handling '\" + msg_type + \"' message: \", msg);\n",
       "                callback(fig, msg);\n",
       "            } catch (e) {\n",
       "                console.log(\"Exception inside the 'handler_\" + msg_type + \"' callback:\", e, e.stack, msg);\n",
       "            }\n",
       "        }\n",
       "    };\n",
       "}\n",
       "\n",
       "// from http://stackoverflow.com/questions/1114465/getting-mouse-location-in-canvas\n",
       "mpl.findpos = function(e) {\n",
       "    //this section is from http://www.quirksmode.org/js/events_properties.html\n",
       "    var targ;\n",
       "    if (!e)\n",
       "        e = window.event;\n",
       "    if (e.target)\n",
       "        targ = e.target;\n",
       "    else if (e.srcElement)\n",
       "        targ = e.srcElement;\n",
       "    if (targ.nodeType == 3) // defeat Safari bug\n",
       "        targ = targ.parentNode;\n",
       "\n",
       "    // jQuery normalizes the pageX and pageY\n",
       "    // pageX,Y are the mouse positions relative to the document\n",
       "    // offset() returns the position of the element relative to the document\n",
       "    var x = e.pageX - $(targ).offset().left;\n",
       "    var y = e.pageY - $(targ).offset().top;\n",
       "\n",
       "    return {\"x\": x, \"y\": y};\n",
       "};\n",
       "\n",
       "/*\n",
       " * return a copy of an object with only non-object keys\n",
       " * we need this to avoid circular references\n",
       " * http://stackoverflow.com/a/24161582/3208463\n",
       " */\n",
       "function simpleKeys (original) {\n",
       "  return Object.keys(original).reduce(function (obj, key) {\n",
       "    if (typeof original[key] !== 'object')\n",
       "        obj[key] = original[key]\n",
       "    return obj;\n",
       "  }, {});\n",
       "}\n",
       "\n",
       "mpl.figure.prototype.mouse_event = function(event, name) {\n",
       "    var canvas_pos = mpl.findpos(event)\n",
       "\n",
       "    if (name === 'button_press')\n",
       "    {\n",
       "        this.canvas.focus();\n",
       "        this.canvas_div.focus();\n",
       "    }\n",
       "\n",
       "    var x = canvas_pos.x * mpl.ratio;\n",
       "    var y = canvas_pos.y * mpl.ratio;\n",
       "\n",
       "    this.send_message(name, {x: x, y: y, button: event.button,\n",
       "                             step: event.step,\n",
       "                             guiEvent: simpleKeys(event)});\n",
       "\n",
       "    /* This prevents the web browser from automatically changing to\n",
       "     * the text insertion cursor when the button is pressed.  We want\n",
       "     * to control all of the cursor setting manually through the\n",
       "     * 'cursor' event from matplotlib */\n",
       "    event.preventDefault();\n",
       "    return false;\n",
       "}\n",
       "\n",
       "mpl.figure.prototype._key_event_extra = function(event, name) {\n",
       "    // Handle any extra behaviour associated with a key event\n",
       "}\n",
       "\n",
       "mpl.figure.prototype.key_event = function(event, name) {\n",
       "\n",
       "    // Prevent repeat events\n",
       "    if (name == 'key_press')\n",
       "    {\n",
       "        if (event.which === this._key)\n",
       "            return;\n",
       "        else\n",
       "            this._key = event.which;\n",
       "    }\n",
       "    if (name == 'key_release')\n",
       "        this._key = null;\n",
       "\n",
       "    var value = '';\n",
       "    if (event.ctrlKey && event.which != 17)\n",
       "        value += \"ctrl+\";\n",
       "    if (event.altKey && event.which != 18)\n",
       "        value += \"alt+\";\n",
       "    if (event.shiftKey && event.which != 16)\n",
       "        value += \"shift+\";\n",
       "\n",
       "    value += 'k';\n",
       "    value += event.which.toString();\n",
       "\n",
       "    this._key_event_extra(event, name);\n",
       "\n",
       "    this.send_message(name, {key: value,\n",
       "                             guiEvent: simpleKeys(event)});\n",
       "    return false;\n",
       "}\n",
       "\n",
       "mpl.figure.prototype.toolbar_button_onclick = function(name) {\n",
       "    if (name == 'download') {\n",
       "        this.handle_save(this, null);\n",
       "    } else {\n",
       "        this.send_message(\"toolbar_button\", {name: name});\n",
       "    }\n",
       "};\n",
       "\n",
       "mpl.figure.prototype.toolbar_button_onmouseover = function(tooltip) {\n",
       "    this.message.textContent = tooltip;\n",
       "};\n",
       "mpl.toolbar_items = [[\"Home\", \"Reset original view\", \"fa fa-home icon-home\", \"home\"], [\"Back\", \"Back to  previous view\", \"fa fa-arrow-left icon-arrow-left\", \"back\"], [\"Forward\", \"Forward to next view\", \"fa fa-arrow-right icon-arrow-right\", \"forward\"], [\"\", \"\", \"\", \"\"], [\"Pan\", \"Pan axes with left mouse, zoom with right\", \"fa fa-arrows icon-move\", \"pan\"], [\"Zoom\", \"Zoom to rectangle\", \"fa fa-square-o icon-check-empty\", \"zoom\"], [\"\", \"\", \"\", \"\"], [\"Download\", \"Download plot\", \"fa fa-floppy-o icon-save\", \"download\"]];\n",
       "\n",
       "mpl.extensions = [\"eps\", \"jpeg\", \"pdf\", \"png\", \"ps\", \"raw\", \"svg\", \"tif\"];\n",
       "\n",
       "mpl.default_extension = \"png\";var comm_websocket_adapter = function(comm) {\n",
       "    // Create a \"websocket\"-like object which calls the given IPython comm\n",
       "    // object with the appropriate methods. Currently this is a non binary\n",
       "    // socket, so there is still some room for performance tuning.\n",
       "    var ws = {};\n",
       "\n",
       "    ws.close = function() {\n",
       "        comm.close()\n",
       "    };\n",
       "    ws.send = function(m) {\n",
       "        //console.log('sending', m);\n",
       "        comm.send(m);\n",
       "    };\n",
       "    // Register the callback with on_msg.\n",
       "    comm.on_msg(function(msg) {\n",
       "        //console.log('receiving', msg['content']['data'], msg);\n",
       "        // Pass the mpl event to the overriden (by mpl) onmessage function.\n",
       "        ws.onmessage(msg['content']['data'])\n",
       "    });\n",
       "    return ws;\n",
       "}\n",
       "\n",
       "mpl.mpl_figure_comm = function(comm, msg) {\n",
       "    // This is the function which gets called when the mpl process\n",
       "    // starts-up an IPython Comm through the \"matplotlib\" channel.\n",
       "\n",
       "    var id = msg.content.data.id;\n",
       "    // Get hold of the div created by the display call when the Comm\n",
       "    // socket was opened in Python.\n",
       "    var element = $(\"#\" + id);\n",
       "    var ws_proxy = comm_websocket_adapter(comm)\n",
       "\n",
       "    function ondownload(figure, format) {\n",
       "        window.open(figure.imageObj.src);\n",
       "    }\n",
       "\n",
       "    var fig = new mpl.figure(id, ws_proxy,\n",
       "                           ondownload,\n",
       "                           element.get(0));\n",
       "\n",
       "    // Call onopen now - mpl needs it, as it is assuming we've passed it a real\n",
       "    // web socket which is closed, not our websocket->open comm proxy.\n",
       "    ws_proxy.onopen();\n",
       "\n",
       "    fig.parent_element = element.get(0);\n",
       "    fig.cell_info = mpl.find_output_cell(\"<div id='\" + id + \"'></div>\");\n",
       "    if (!fig.cell_info) {\n",
       "        console.error(\"Failed to find cell for figure\", id, fig);\n",
       "        return;\n",
       "    }\n",
       "\n",
       "    var output_index = fig.cell_info[2]\n",
       "    var cell = fig.cell_info[0];\n",
       "\n",
       "};\n",
       "\n",
       "mpl.figure.prototype.handle_close = function(fig, msg) {\n",
       "    var width = fig.canvas.width/mpl.ratio\n",
       "    fig.root.unbind('remove')\n",
       "\n",
       "    // Update the output cell to use the data from the current canvas.\n",
       "    fig.push_to_output();\n",
       "    var dataURL = fig.canvas.toDataURL();\n",
       "    // Re-enable the keyboard manager in IPython - without this line, in FF,\n",
       "    // the notebook keyboard shortcuts fail.\n",
       "    IPython.keyboard_manager.enable()\n",
       "    $(fig.parent_element).html('<img src=\"' + dataURL + '\" width=\"' + width + '\">');\n",
       "    fig.close_ws(fig, msg);\n",
       "}\n",
       "\n",
       "mpl.figure.prototype.close_ws = function(fig, msg){\n",
       "    fig.send_message('closing', msg);\n",
       "    // fig.ws.close()\n",
       "}\n",
       "\n",
       "mpl.figure.prototype.push_to_output = function(remove_interactive) {\n",
       "    // Turn the data on the canvas into data in the output cell.\n",
       "    var width = this.canvas.width/mpl.ratio\n",
       "    var dataURL = this.canvas.toDataURL();\n",
       "    this.cell_info[1]['text/html'] = '<img src=\"' + dataURL + '\" width=\"' + width + '\">';\n",
       "}\n",
       "\n",
       "mpl.figure.prototype.updated_canvas_event = function() {\n",
       "    // Tell IPython that the notebook contents must change.\n",
       "    IPython.notebook.set_dirty(true);\n",
       "    this.send_message(\"ack\", {});\n",
       "    var fig = this;\n",
       "    // Wait a second, then push the new image to the DOM so\n",
       "    // that it is saved nicely (might be nice to debounce this).\n",
       "    setTimeout(function () { fig.push_to_output() }, 1000);\n",
       "}\n",
       "\n",
       "mpl.figure.prototype._init_toolbar = function() {\n",
       "    var fig = this;\n",
       "\n",
       "    var nav_element = $('<div/>')\n",
       "    nav_element.attr('style', 'width: 100%');\n",
       "    this.root.append(nav_element);\n",
       "\n",
       "    // Define a callback function for later on.\n",
       "    function toolbar_event(event) {\n",
       "        return fig.toolbar_button_onclick(event['data']);\n",
       "    }\n",
       "    function toolbar_mouse_event(event) {\n",
       "        return fig.toolbar_button_onmouseover(event['data']);\n",
       "    }\n",
       "\n",
       "    for(var toolbar_ind in mpl.toolbar_items){\n",
       "        var name = mpl.toolbar_items[toolbar_ind][0];\n",
       "        var tooltip = mpl.toolbar_items[toolbar_ind][1];\n",
       "        var image = mpl.toolbar_items[toolbar_ind][2];\n",
       "        var method_name = mpl.toolbar_items[toolbar_ind][3];\n",
       "\n",
       "        if (!name) { continue; };\n",
       "\n",
       "        var button = $('<button class=\"btn btn-default\" href=\"#\" title=\"' + name + '\"><i class=\"fa ' + image + ' fa-lg\"></i></button>');\n",
       "        button.click(method_name, toolbar_event);\n",
       "        button.mouseover(tooltip, toolbar_mouse_event);\n",
       "        nav_element.append(button);\n",
       "    }\n",
       "\n",
       "    // Add the status bar.\n",
       "    var status_bar = $('<span class=\"mpl-message\" style=\"text-align:right; float: right;\"/>');\n",
       "    nav_element.append(status_bar);\n",
       "    this.message = status_bar[0];\n",
       "\n",
       "    // Add the close button to the window.\n",
       "    var buttongrp = $('<div class=\"btn-group inline pull-right\"></div>');\n",
       "    var button = $('<button class=\"btn btn-mini btn-primary\" href=\"#\" title=\"Stop Interaction\"><i class=\"fa fa-power-off icon-remove icon-large\"></i></button>');\n",
       "    button.click(function (evt) { fig.handle_close(fig, {}); } );\n",
       "    button.mouseover('Stop Interaction', toolbar_mouse_event);\n",
       "    buttongrp.append(button);\n",
       "    var titlebar = this.root.find($('.ui-dialog-titlebar'));\n",
       "    titlebar.prepend(buttongrp);\n",
       "}\n",
       "\n",
       "mpl.figure.prototype._root_extra_style = function(el){\n",
       "    var fig = this\n",
       "    el.on(\"remove\", function(){\n",
       "\tfig.close_ws(fig, {});\n",
       "    });\n",
       "}\n",
       "\n",
       "mpl.figure.prototype._canvas_extra_style = function(el){\n",
       "    // this is important to make the div 'focusable\n",
       "    el.attr('tabindex', 0)\n",
       "    // reach out to IPython and tell the keyboard manager to turn it's self\n",
       "    // off when our div gets focus\n",
       "\n",
       "    // location in version 3\n",
       "    if (IPython.notebook.keyboard_manager) {\n",
       "        IPython.notebook.keyboard_manager.register_events(el);\n",
       "    }\n",
       "    else {\n",
       "        // location in version 2\n",
       "        IPython.keyboard_manager.register_events(el);\n",
       "    }\n",
       "\n",
       "}\n",
       "\n",
       "mpl.figure.prototype._key_event_extra = function(event, name) {\n",
       "    var manager = IPython.notebook.keyboard_manager;\n",
       "    if (!manager)\n",
       "        manager = IPython.keyboard_manager;\n",
       "\n",
       "    // Check for shift+enter\n",
       "    if (event.shiftKey && event.which == 13) {\n",
       "        this.canvas_div.blur();\n",
       "        // select the cell after this one\n",
       "        var index = IPython.notebook.find_cell_index(this.cell_info[0]);\n",
       "        IPython.notebook.select(index + 1);\n",
       "    }\n",
       "}\n",
       "\n",
       "mpl.figure.prototype.handle_save = function(fig, msg) {\n",
       "    fig.ondownload(fig, null);\n",
       "}\n",
       "\n",
       "\n",
       "mpl.find_output_cell = function(html_output) {\n",
       "    // Return the cell and output element which can be found *uniquely* in the notebook.\n",
       "    // Note - this is a bit hacky, but it is done because the \"notebook_saving.Notebook\"\n",
       "    // IPython event is triggered only after the cells have been serialised, which for\n",
       "    // our purposes (turning an active figure into a static one), is too late.\n",
       "    var cells = IPython.notebook.get_cells();\n",
       "    var ncells = cells.length;\n",
       "    for (var i=0; i<ncells; i++) {\n",
       "        var cell = cells[i];\n",
       "        if (cell.cell_type === 'code'){\n",
       "            for (var j=0; j<cell.output_area.outputs.length; j++) {\n",
       "                var data = cell.output_area.outputs[j];\n",
       "                if (data.data) {\n",
       "                    // IPython >= 3 moved mimebundle to data attribute of output\n",
       "                    data = data.data;\n",
       "                }\n",
       "                if (data['text/html'] == html_output) {\n",
       "                    return [cell, data, j];\n",
       "                }\n",
       "            }\n",
       "        }\n",
       "    }\n",
       "}\n",
       "\n",
       "// Register the function which deals with the matplotlib target/channel.\n",
       "// The kernel may be null if the page has been refreshed.\n",
       "if (IPython.notebook.kernel != null) {\n",
       "    IPython.notebook.kernel.comm_manager.register_target('matplotlib', mpl.mpl_figure_comm);\n",
       "}\n"
      ],
      "text/plain": [
       "<IPython.core.display.Javascript object>"
      ]
     },
     "metadata": {},
     "output_type": "display_data"
    },
    {
     "data": {
      "text/html": [
       "<img src=\"data:image/png;base64,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\" width=\"432\">"
      ],
      "text/plain": [
       "<IPython.core.display.HTML object>"
      ]
     },
     "metadata": {},
     "output_type": "display_data"
    },
    {
     "data": {
      "text/plain": [
       "<sunpy.visualization.imageanimator.ImageAnimatorWCS at 0x3748d4be0>"
      ]
     },
     "execution_count": 73,
     "metadata": {},
     "output_type": "execute_result"
    },
    {
     "data": {
      "application/javascript": [
       "/* Put everything inside the global mpl namespace */\n",
       "window.mpl = {};\n",
       "\n",
       "\n",
       "mpl.get_websocket_type = function() {\n",
       "    if (typeof(WebSocket) !== 'undefined') {\n",
       "        return WebSocket;\n",
       "    } else if (typeof(MozWebSocket) !== 'undefined') {\n",
       "        return MozWebSocket;\n",
       "    } else {\n",
       "        alert('Your browser does not have WebSocket support.' +\n",
       "              'Please try Chrome, Safari or Firefox ≥ 6. ' +\n",
       "              'Firefox 4 and 5 are also supported but you ' +\n",
       "              'have to enable WebSockets in about:config.');\n",
       "    };\n",
       "}\n",
       "\n",
       "mpl.figure = function(figure_id, websocket, ondownload, parent_element) {\n",
       "    this.id = figure_id;\n",
       "\n",
       "    this.ws = websocket;\n",
       "\n",
       "    this.supports_binary = (this.ws.binaryType != undefined);\n",
       "\n",
       "    if (!this.supports_binary) {\n",
       "        var warnings = document.getElementById(\"mpl-warnings\");\n",
       "        if (warnings) {\n",
       "            warnings.style.display = 'block';\n",
       "            warnings.textContent = (\n",
       "                \"This browser does not support binary websocket messages. \" +\n",
       "                    \"Performance may be slow.\");\n",
       "        }\n",
       "    }\n",
       "\n",
       "    this.imageObj = new Image();\n",
       "\n",
       "    this.context = undefined;\n",
       "    this.message = undefined;\n",
       "    this.canvas = undefined;\n",
       "    this.rubberband_canvas = undefined;\n",
       "    this.rubberband_context = undefined;\n",
       "    this.format_dropdown = undefined;\n",
       "\n",
       "    this.image_mode = 'full';\n",
       "\n",
       "    this.root = $('<div/>');\n",
       "    this._root_extra_style(this.root)\n",
       "    this.root.attr('style', 'display: inline-block');\n",
       "\n",
       "    $(parent_element).append(this.root);\n",
       "\n",
       "    this._init_header(this);\n",
       "    this._init_canvas(this);\n",
       "    this._init_toolbar(this);\n",
       "\n",
       "    var fig = this;\n",
       "\n",
       "    this.waiting = false;\n",
       "\n",
       "    this.ws.onopen =  function () {\n",
       "            fig.send_message(\"supports_binary\", {value: fig.supports_binary});\n",
       "            fig.send_message(\"send_image_mode\", {});\n",
       "            if (mpl.ratio != 1) {\n",
       "                fig.send_message(\"set_dpi_ratio\", {'dpi_ratio': mpl.ratio});\n",
       "            }\n",
       "            fig.send_message(\"refresh\", {});\n",
       "        }\n",
       "\n",
       "    this.imageObj.onload = function() {\n",
       "            if (fig.image_mode == 'full') {\n",
       "                // Full images could contain transparency (where diff images\n",
       "                // almost always do), so we need to clear the canvas so that\n",
       "                // there is no ghosting.\n",
       "                fig.context.clearRect(0, 0, fig.canvas.width, fig.canvas.height);\n",
       "            }\n",
       "            fig.context.drawImage(fig.imageObj, 0, 0);\n",
       "        };\n",
       "\n",
       "    this.imageObj.onunload = function() {\n",
       "        this.ws.close();\n",
       "    }\n",
       "\n",
       "    this.ws.onmessage = this._make_on_message_function(this);\n",
       "\n",
       "    this.ondownload = ondownload;\n",
       "}\n",
       "\n",
       "mpl.figure.prototype._init_header = function() {\n",
       "    var titlebar = $(\n",
       "        '<div class=\"ui-dialog-titlebar ui-widget-header ui-corner-all ' +\n",
       "        'ui-helper-clearfix\"/>');\n",
       "    var titletext = $(\n",
       "        '<div class=\"ui-dialog-title\" style=\"width: 100%; ' +\n",
       "        'text-align: center; padding: 3px;\"/>');\n",
       "    titlebar.append(titletext)\n",
       "    this.root.append(titlebar);\n",
       "    this.header = titletext[0];\n",
       "}\n",
       "\n",
       "\n",
       "\n",
       "mpl.figure.prototype._canvas_extra_style = function(canvas_div) {\n",
       "\n",
       "}\n",
       "\n",
       "\n",
       "mpl.figure.prototype._root_extra_style = function(canvas_div) {\n",
       "\n",
       "}\n",
       "\n",
       "mpl.figure.prototype._init_canvas = function() {\n",
       "    var fig = this;\n",
       "\n",
       "    var canvas_div = $('<div/>');\n",
       "\n",
       "    canvas_div.attr('style', 'position: relative; clear: both; outline: 0');\n",
       "\n",
       "    function canvas_keyboard_event(event) {\n",
       "        return fig.key_event(event, event['data']);\n",
       "    }\n",
       "\n",
       "    canvas_div.keydown('key_press', canvas_keyboard_event);\n",
       "    canvas_div.keyup('key_release', canvas_keyboard_event);\n",
       "    this.canvas_div = canvas_div\n",
       "    this._canvas_extra_style(canvas_div)\n",
       "    this.root.append(canvas_div);\n",
       "\n",
       "    var canvas = $('<canvas/>');\n",
       "    canvas.addClass('mpl-canvas');\n",
       "    canvas.attr('style', \"left: 0; top: 0; z-index: 0; outline: 0\")\n",
       "\n",
       "    this.canvas = canvas[0];\n",
       "    this.context = canvas[0].getContext(\"2d\");\n",
       "\n",
       "    var backingStore = this.context.backingStorePixelRatio ||\n",
       "\tthis.context.webkitBackingStorePixelRatio ||\n",
       "\tthis.context.mozBackingStorePixelRatio ||\n",
       "\tthis.context.msBackingStorePixelRatio ||\n",
       "\tthis.context.oBackingStorePixelRatio ||\n",
       "\tthis.context.backingStorePixelRatio || 1;\n",
       "\n",
       "    mpl.ratio = (window.devicePixelRatio || 1) / backingStore;\n",
       "\n",
       "    var rubberband = $('<canvas/>');\n",
       "    rubberband.attr('style', \"position: absolute; left: 0; top: 0; z-index: 1;\")\n",
       "\n",
       "    var pass_mouse_events = true;\n",
       "\n",
       "    canvas_div.resizable({\n",
       "        start: function(event, ui) {\n",
       "            pass_mouse_events = false;\n",
       "        },\n",
       "        resize: function(event, ui) {\n",
       "            fig.request_resize(ui.size.width, ui.size.height);\n",
       "        },\n",
       "        stop: function(event, ui) {\n",
       "            pass_mouse_events = true;\n",
       "            fig.request_resize(ui.size.width, ui.size.height);\n",
       "        },\n",
       "    });\n",
       "\n",
       "    function mouse_event_fn(event) {\n",
       "        if (pass_mouse_events)\n",
       "            return fig.mouse_event(event, event['data']);\n",
       "    }\n",
       "\n",
       "    rubberband.mousedown('button_press', mouse_event_fn);\n",
       "    rubberband.mouseup('button_release', mouse_event_fn);\n",
       "    // Throttle sequential mouse events to 1 every 20ms.\n",
       "    rubberband.mousemove('motion_notify', mouse_event_fn);\n",
       "\n",
       "    rubberband.mouseenter('figure_enter', mouse_event_fn);\n",
       "    rubberband.mouseleave('figure_leave', mouse_event_fn);\n",
       "\n",
       "    canvas_div.on(\"wheel\", function (event) {\n",
       "        event = event.originalEvent;\n",
       "        event['data'] = 'scroll'\n",
       "        if (event.deltaY < 0) {\n",
       "            event.step = 1;\n",
       "        } else {\n",
       "            event.step = -1;\n",
       "        }\n",
       "        mouse_event_fn(event);\n",
       "    });\n",
       "\n",
       "    canvas_div.append(canvas);\n",
       "    canvas_div.append(rubberband);\n",
       "\n",
       "    this.rubberband = rubberband;\n",
       "    this.rubberband_canvas = rubberband[0];\n",
       "    this.rubberband_context = rubberband[0].getContext(\"2d\");\n",
       "    this.rubberband_context.strokeStyle = \"#000000\";\n",
       "\n",
       "    this._resize_canvas = function(width, height) {\n",
       "        // Keep the size of the canvas, canvas container, and rubber band\n",
       "        // canvas in synch.\n",
       "        canvas_div.css('width', width)\n",
       "        canvas_div.css('height', height)\n",
       "\n",
       "        canvas.attr('width', width * mpl.ratio);\n",
       "        canvas.attr('height', height * mpl.ratio);\n",
       "        canvas.attr('style', 'width: ' + width + 'px; height: ' + height + 'px;');\n",
       "\n",
       "        rubberband.attr('width', width);\n",
       "        rubberband.attr('height', height);\n",
       "    }\n",
       "\n",
       "    // Set the figure to an initial 600x600px, this will subsequently be updated\n",
       "    // upon first draw.\n",
       "    this._resize_canvas(600, 600);\n",
       "\n",
       "    // Disable right mouse context menu.\n",
       "    $(this.rubberband_canvas).bind(\"contextmenu\",function(e){\n",
       "        return false;\n",
       "    });\n",
       "\n",
       "    function set_focus () {\n",
       "        canvas.focus();\n",
       "        canvas_div.focus();\n",
       "    }\n",
       "\n",
       "    window.setTimeout(set_focus, 100);\n",
       "}\n",
       "\n",
       "mpl.figure.prototype._init_toolbar = function() {\n",
       "    var fig = this;\n",
       "\n",
       "    var nav_element = $('<div/>')\n",
       "    nav_element.attr('style', 'width: 100%');\n",
       "    this.root.append(nav_element);\n",
       "\n",
       "    // Define a callback function for later on.\n",
       "    function toolbar_event(event) {\n",
       "        return fig.toolbar_button_onclick(event['data']);\n",
       "    }\n",
       "    function toolbar_mouse_event(event) {\n",
       "        return fig.toolbar_button_onmouseover(event['data']);\n",
       "    }\n",
       "\n",
       "    for(var toolbar_ind in mpl.toolbar_items) {\n",
       "        var name = mpl.toolbar_items[toolbar_ind][0];\n",
       "        var tooltip = mpl.toolbar_items[toolbar_ind][1];\n",
       "        var image = mpl.toolbar_items[toolbar_ind][2];\n",
       "        var method_name = mpl.toolbar_items[toolbar_ind][3];\n",
       "\n",
       "        if (!name) {\n",
       "            // put a spacer in here.\n",
       "            continue;\n",
       "        }\n",
       "        var button = $('<button/>');\n",
       "        button.addClass('ui-button ui-widget ui-state-default ui-corner-all ' +\n",
       "                        'ui-button-icon-only');\n",
       "        button.attr('role', 'button');\n",
       "        button.attr('aria-disabled', 'false');\n",
       "        button.click(method_name, toolbar_event);\n",
       "        button.mouseover(tooltip, toolbar_mouse_event);\n",
       "\n",
       "        var icon_img = $('<span/>');\n",
       "        icon_img.addClass('ui-button-icon-primary ui-icon');\n",
       "        icon_img.addClass(image);\n",
       "        icon_img.addClass('ui-corner-all');\n",
       "\n",
       "        var tooltip_span = $('<span/>');\n",
       "        tooltip_span.addClass('ui-button-text');\n",
       "        tooltip_span.html(tooltip);\n",
       "\n",
       "        button.append(icon_img);\n",
       "        button.append(tooltip_span);\n",
       "\n",
       "        nav_element.append(button);\n",
       "    }\n",
       "\n",
       "    var fmt_picker_span = $('<span/>');\n",
       "\n",
       "    var fmt_picker = $('<select/>');\n",
       "    fmt_picker.addClass('mpl-toolbar-option ui-widget ui-widget-content');\n",
       "    fmt_picker_span.append(fmt_picker);\n",
       "    nav_element.append(fmt_picker_span);\n",
       "    this.format_dropdown = fmt_picker[0];\n",
       "\n",
       "    for (var ind in mpl.extensions) {\n",
       "        var fmt = mpl.extensions[ind];\n",
       "        var option = $(\n",
       "            '<option/>', {selected: fmt === mpl.default_extension}).html(fmt);\n",
       "        fmt_picker.append(option)\n",
       "    }\n",
       "\n",
       "    // Add hover states to the ui-buttons\n",
       "    $( \".ui-button\" ).hover(\n",
       "        function() { $(this).addClass(\"ui-state-hover\");},\n",
       "        function() { $(this).removeClass(\"ui-state-hover\");}\n",
       "    );\n",
       "\n",
       "    var status_bar = $('<span class=\"mpl-message\"/>');\n",
       "    nav_element.append(status_bar);\n",
       "    this.message = status_bar[0];\n",
       "}\n",
       "\n",
       "mpl.figure.prototype.request_resize = function(x_pixels, y_pixels) {\n",
       "    // Request matplotlib to resize the figure. Matplotlib will then trigger a resize in the client,\n",
       "    // which will in turn request a refresh of the image.\n",
       "    this.send_message('resize', {'width': x_pixels, 'height': y_pixels});\n",
       "}\n",
       "\n",
       "mpl.figure.prototype.send_message = function(type, properties) {\n",
       "    properties['type'] = type;\n",
       "    properties['figure_id'] = this.id;\n",
       "    this.ws.send(JSON.stringify(properties));\n",
       "}\n",
       "\n",
       "mpl.figure.prototype.send_draw_message = function() {\n",
       "    if (!this.waiting) {\n",
       "        this.waiting = true;\n",
       "        this.ws.send(JSON.stringify({type: \"draw\", figure_id: this.id}));\n",
       "    }\n",
       "}\n",
       "\n",
       "\n",
       "mpl.figure.prototype.handle_save = function(fig, msg) {\n",
       "    var format_dropdown = fig.format_dropdown;\n",
       "    var format = format_dropdown.options[format_dropdown.selectedIndex].value;\n",
       "    fig.ondownload(fig, format);\n",
       "}\n",
       "\n",
       "\n",
       "mpl.figure.prototype.handle_resize = function(fig, msg) {\n",
       "    var size = msg['size'];\n",
       "    if (size[0] != fig.canvas.width || size[1] != fig.canvas.height) {\n",
       "        fig._resize_canvas(size[0], size[1]);\n",
       "        fig.send_message(\"refresh\", {});\n",
       "    };\n",
       "}\n",
       "\n",
       "mpl.figure.prototype.handle_rubberband = function(fig, msg) {\n",
       "    var x0 = msg['x0'] / mpl.ratio;\n",
       "    var y0 = (fig.canvas.height - msg['y0']) / mpl.ratio;\n",
       "    var x1 = msg['x1'] / mpl.ratio;\n",
       "    var y1 = (fig.canvas.height - msg['y1']) / mpl.ratio;\n",
       "    x0 = Math.floor(x0) + 0.5;\n",
       "    y0 = Math.floor(y0) + 0.5;\n",
       "    x1 = Math.floor(x1) + 0.5;\n",
       "    y1 = Math.floor(y1) + 0.5;\n",
       "    var min_x = Math.min(x0, x1);\n",
       "    var min_y = Math.min(y0, y1);\n",
       "    var width = Math.abs(x1 - x0);\n",
       "    var height = Math.abs(y1 - y0);\n",
       "\n",
       "    fig.rubberband_context.clearRect(\n",
       "        0, 0, fig.canvas.width, fig.canvas.height);\n",
       "\n",
       "    fig.rubberband_context.strokeRect(min_x, min_y, width, height);\n",
       "}\n",
       "\n",
       "mpl.figure.prototype.handle_figure_label = function(fig, msg) {\n",
       "    // Updates the figure title.\n",
       "    fig.header.textContent = msg['label'];\n",
       "}\n",
       "\n",
       "mpl.figure.prototype.handle_cursor = function(fig, msg) {\n",
       "    var cursor = msg['cursor'];\n",
       "    switch(cursor)\n",
       "    {\n",
       "    case 0:\n",
       "        cursor = 'pointer';\n",
       "        break;\n",
       "    case 1:\n",
       "        cursor = 'default';\n",
       "        break;\n",
       "    case 2:\n",
       "        cursor = 'crosshair';\n",
       "        break;\n",
       "    case 3:\n",
       "        cursor = 'move';\n",
       "        break;\n",
       "    }\n",
       "    fig.rubberband_canvas.style.cursor = cursor;\n",
       "}\n",
       "\n",
       "mpl.figure.prototype.handle_message = function(fig, msg) {\n",
       "    fig.message.textContent = msg['message'];\n",
       "}\n",
       "\n",
       "mpl.figure.prototype.handle_draw = function(fig, msg) {\n",
       "    // Request the server to send over a new figure.\n",
       "    fig.send_draw_message();\n",
       "}\n",
       "\n",
       "mpl.figure.prototype.handle_image_mode = function(fig, msg) {\n",
       "    fig.image_mode = msg['mode'];\n",
       "}\n",
       "\n",
       "mpl.figure.prototype.updated_canvas_event = function() {\n",
       "    // Called whenever the canvas gets updated.\n",
       "    this.send_message(\"ack\", {});\n",
       "}\n",
       "\n",
       "// A function to construct a web socket function for onmessage handling.\n",
       "// Called in the figure constructor.\n",
       "mpl.figure.prototype._make_on_message_function = function(fig) {\n",
       "    return function socket_on_message(evt) {\n",
       "        if (evt.data instanceof Blob) {\n",
       "            /* FIXME: We get \"Resource interpreted as Image but\n",
       "             * transferred with MIME type text/plain:\" errors on\n",
       "             * Chrome.  But how to set the MIME type?  It doesn't seem\n",
       "             * to be part of the websocket stream */\n",
       "            evt.data.type = \"image/png\";\n",
       "\n",
       "            /* Free the memory for the previous frames */\n",
       "            if (fig.imageObj.src) {\n",
       "                (window.URL || window.webkitURL).revokeObjectURL(\n",
       "                    fig.imageObj.src);\n",
       "            }\n",
       "\n",
       "            fig.imageObj.src = (window.URL || window.webkitURL).createObjectURL(\n",
       "                evt.data);\n",
       "            fig.updated_canvas_event();\n",
       "            fig.waiting = false;\n",
       "            return;\n",
       "        }\n",
       "        else if (typeof evt.data === 'string' && evt.data.slice(0, 21) == \"data:image/png;base64\") {\n",
       "            fig.imageObj.src = evt.data;\n",
       "            fig.updated_canvas_event();\n",
       "            fig.waiting = false;\n",
       "            return;\n",
       "        }\n",
       "\n",
       "        var msg = JSON.parse(evt.data);\n",
       "        var msg_type = msg['type'];\n",
       "\n",
       "        // Call the  \"handle_{type}\" callback, which takes\n",
       "        // the figure and JSON message as its only arguments.\n",
       "        try {\n",
       "            var callback = fig[\"handle_\" + msg_type];\n",
       "        } catch (e) {\n",
       "            console.log(\"No handler for the '\" + msg_type + \"' message type: \", msg);\n",
       "            return;\n",
       "        }\n",
       "\n",
       "        if (callback) {\n",
       "            try {\n",
       "                // console.log(\"Handling '\" + msg_type + \"' message: \", msg);\n",
       "                callback(fig, msg);\n",
       "            } catch (e) {\n",
       "                console.log(\"Exception inside the 'handler_\" + msg_type + \"' callback:\", e, e.stack, msg);\n",
       "            }\n",
       "        }\n",
       "    };\n",
       "}\n",
       "\n",
       "// from http://stackoverflow.com/questions/1114465/getting-mouse-location-in-canvas\n",
       "mpl.findpos = function(e) {\n",
       "    //this section is from http://www.quirksmode.org/js/events_properties.html\n",
       "    var targ;\n",
       "    if (!e)\n",
       "        e = window.event;\n",
       "    if (e.target)\n",
       "        targ = e.target;\n",
       "    else if (e.srcElement)\n",
       "        targ = e.srcElement;\n",
       "    if (targ.nodeType == 3) // defeat Safari bug\n",
       "        targ = targ.parentNode;\n",
       "\n",
       "    // jQuery normalizes the pageX and pageY\n",
       "    // pageX,Y are the mouse positions relative to the document\n",
       "    // offset() returns the position of the element relative to the document\n",
       "    var x = e.pageX - $(targ).offset().left;\n",
       "    var y = e.pageY - $(targ).offset().top;\n",
       "\n",
       "    return {\"x\": x, \"y\": y};\n",
       "};\n",
       "\n",
       "/*\n",
       " * return a copy of an object with only non-object keys\n",
       " * we need this to avoid circular references\n",
       " * http://stackoverflow.com/a/24161582/3208463\n",
       " */\n",
       "function simpleKeys (original) {\n",
       "  return Object.keys(original).reduce(function (obj, key) {\n",
       "    if (typeof original[key] !== 'object')\n",
       "        obj[key] = original[key]\n",
       "    return obj;\n",
       "  }, {});\n",
       "}\n",
       "\n",
       "mpl.figure.prototype.mouse_event = function(event, name) {\n",
       "    var canvas_pos = mpl.findpos(event)\n",
       "\n",
       "    if (name === 'button_press')\n",
       "    {\n",
       "        this.canvas.focus();\n",
       "        this.canvas_div.focus();\n",
       "    }\n",
       "\n",
       "    var x = canvas_pos.x * mpl.ratio;\n",
       "    var y = canvas_pos.y * mpl.ratio;\n",
       "\n",
       "    this.send_message(name, {x: x, y: y, button: event.button,\n",
       "                             step: event.step,\n",
       "                             guiEvent: simpleKeys(event)});\n",
       "\n",
       "    /* This prevents the web browser from automatically changing to\n",
       "     * the text insertion cursor when the button is pressed.  We want\n",
       "     * to control all of the cursor setting manually through the\n",
       "     * 'cursor' event from matplotlib */\n",
       "    event.preventDefault();\n",
       "    return false;\n",
       "}\n",
       "\n",
       "mpl.figure.prototype._key_event_extra = function(event, name) {\n",
       "    // Handle any extra behaviour associated with a key event\n",
       "}\n",
       "\n",
       "mpl.figure.prototype.key_event = function(event, name) {\n",
       "\n",
       "    // Prevent repeat events\n",
       "    if (name == 'key_press')\n",
       "    {\n",
       "        if (event.which === this._key)\n",
       "            return;\n",
       "        else\n",
       "            this._key = event.which;\n",
       "    }\n",
       "    if (name == 'key_release')\n",
       "        this._key = null;\n",
       "\n",
       "    var value = '';\n",
       "    if (event.ctrlKey && event.which != 17)\n",
       "        value += \"ctrl+\";\n",
       "    if (event.altKey && event.which != 18)\n",
       "        value += \"alt+\";\n",
       "    if (event.shiftKey && event.which != 16)\n",
       "        value += \"shift+\";\n",
       "\n",
       "    value += 'k';\n",
       "    value += event.which.toString();\n",
       "\n",
       "    this._key_event_extra(event, name);\n",
       "\n",
       "    this.send_message(name, {key: value,\n",
       "                             guiEvent: simpleKeys(event)});\n",
       "    return false;\n",
       "}\n",
       "\n",
       "mpl.figure.prototype.toolbar_button_onclick = function(name) {\n",
       "    if (name == 'download') {\n",
       "        this.handle_save(this, null);\n",
       "    } else {\n",
       "        this.send_message(\"toolbar_button\", {name: name});\n",
       "    }\n",
       "};\n",
       "\n",
       "mpl.figure.prototype.toolbar_button_onmouseover = function(tooltip) {\n",
       "    this.message.textContent = tooltip;\n",
       "};\n",
       "mpl.toolbar_items = [[\"Home\", \"Reset original view\", \"fa fa-home icon-home\", \"home\"], [\"Back\", \"Back to  previous view\", \"fa fa-arrow-left icon-arrow-left\", \"back\"], [\"Forward\", \"Forward to next view\", \"fa fa-arrow-right icon-arrow-right\", \"forward\"], [\"\", \"\", \"\", \"\"], [\"Pan\", \"Pan axes with left mouse, zoom with right\", \"fa fa-arrows icon-move\", \"pan\"], [\"Zoom\", \"Zoom to rectangle\", \"fa fa-square-o icon-check-empty\", \"zoom\"], [\"\", \"\", \"\", \"\"], [\"Download\", \"Download plot\", \"fa fa-floppy-o icon-save\", \"download\"]];\n",
       "\n",
       "mpl.extensions = [\"eps\", \"jpeg\", \"pdf\", \"png\", \"ps\", \"raw\", \"svg\", \"tif\"];\n",
       "\n",
       "mpl.default_extension = \"png\";var comm_websocket_adapter = function(comm) {\n",
       "    // Create a \"websocket\"-like object which calls the given IPython comm\n",
       "    // object with the appropriate methods. Currently this is a non binary\n",
       "    // socket, so there is still some room for performance tuning.\n",
       "    var ws = {};\n",
       "\n",
       "    ws.close = function() {\n",
       "        comm.close()\n",
       "    };\n",
       "    ws.send = function(m) {\n",
       "        //console.log('sending', m);\n",
       "        comm.send(m);\n",
       "    };\n",
       "    // Register the callback with on_msg.\n",
       "    comm.on_msg(function(msg) {\n",
       "        //console.log('receiving', msg['content']['data'], msg);\n",
       "        // Pass the mpl event to the overriden (by mpl) onmessage function.\n",
       "        ws.onmessage(msg['content']['data'])\n",
       "    });\n",
       "    return ws;\n",
       "}\n",
       "\n",
       "mpl.mpl_figure_comm = function(comm, msg) {\n",
       "    // This is the function which gets called when the mpl process\n",
       "    // starts-up an IPython Comm through the \"matplotlib\" channel.\n",
       "\n",
       "    var id = msg.content.data.id;\n",
       "    // Get hold of the div created by the display call when the Comm\n",
       "    // socket was opened in Python.\n",
       "    var element = $(\"#\" + id);\n",
       "    var ws_proxy = comm_websocket_adapter(comm)\n",
       "\n",
       "    function ondownload(figure, format) {\n",
       "        window.open(figure.imageObj.src);\n",
       "    }\n",
       "\n",
       "    var fig = new mpl.figure(id, ws_proxy,\n",
       "                           ondownload,\n",
       "                           element.get(0));\n",
       "\n",
       "    // Call onopen now - mpl needs it, as it is assuming we've passed it a real\n",
       "    // web socket which is closed, not our websocket->open comm proxy.\n",
       "    ws_proxy.onopen();\n",
       "\n",
       "    fig.parent_element = element.get(0);\n",
       "    fig.cell_info = mpl.find_output_cell(\"<div id='\" + id + \"'></div>\");\n",
       "    if (!fig.cell_info) {\n",
       "        console.error(\"Failed to find cell for figure\", id, fig);\n",
       "        return;\n",
       "    }\n",
       "\n",
       "    var output_index = fig.cell_info[2]\n",
       "    var cell = fig.cell_info[0];\n",
       "\n",
       "};\n",
       "\n",
       "mpl.figure.prototype.handle_close = function(fig, msg) {\n",
       "    var width = fig.canvas.width/mpl.ratio\n",
       "    fig.root.unbind('remove')\n",
       "\n",
       "    // Update the output cell to use the data from the current canvas.\n",
       "    fig.push_to_output();\n",
       "    var dataURL = fig.canvas.toDataURL();\n",
       "    // Re-enable the keyboard manager in IPython - without this line, in FF,\n",
       "    // the notebook keyboard shortcuts fail.\n",
       "    IPython.keyboard_manager.enable()\n",
       "    $(fig.parent_element).html('<img src=\"' + dataURL + '\" width=\"' + width + '\">');\n",
       "    fig.close_ws(fig, msg);\n",
       "}\n",
       "\n",
       "mpl.figure.prototype.close_ws = function(fig, msg){\n",
       "    fig.send_message('closing', msg);\n",
       "    // fig.ws.close()\n",
       "}\n",
       "\n",
       "mpl.figure.prototype.push_to_output = function(remove_interactive) {\n",
       "    // Turn the data on the canvas into data in the output cell.\n",
       "    var width = this.canvas.width/mpl.ratio\n",
       "    var dataURL = this.canvas.toDataURL();\n",
       "    this.cell_info[1]['text/html'] = '<img src=\"' + dataURL + '\" width=\"' + width + '\">';\n",
       "}\n",
       "\n",
       "mpl.figure.prototype.updated_canvas_event = function() {\n",
       "    // Tell IPython that the notebook contents must change.\n",
       "    IPython.notebook.set_dirty(true);\n",
       "    this.send_message(\"ack\", {});\n",
       "    var fig = this;\n",
       "    // Wait a second, then push the new image to the DOM so\n",
       "    // that it is saved nicely (might be nice to debounce this).\n",
       "    setTimeout(function () { fig.push_to_output() }, 1000);\n",
       "}\n",
       "\n",
       "mpl.figure.prototype._init_toolbar = function() {\n",
       "    var fig = this;\n",
       "\n",
       "    var nav_element = $('<div/>')\n",
       "    nav_element.attr('style', 'width: 100%');\n",
       "    this.root.append(nav_element);\n",
       "\n",
       "    // Define a callback function for later on.\n",
       "    function toolbar_event(event) {\n",
       "        return fig.toolbar_button_onclick(event['data']);\n",
       "    }\n",
       "    function toolbar_mouse_event(event) {\n",
       "        return fig.toolbar_button_onmouseover(event['data']);\n",
       "    }\n",
       "\n",
       "    for(var toolbar_ind in mpl.toolbar_items){\n",
       "        var name = mpl.toolbar_items[toolbar_ind][0];\n",
       "        var tooltip = mpl.toolbar_items[toolbar_ind][1];\n",
       "        var image = mpl.toolbar_items[toolbar_ind][2];\n",
       "        var method_name = mpl.toolbar_items[toolbar_ind][3];\n",
       "\n",
       "        if (!name) { continue; };\n",
       "\n",
       "        var button = $('<button class=\"btn btn-default\" href=\"#\" title=\"' + name + '\"><i class=\"fa ' + image + ' fa-lg\"></i></button>');\n",
       "        button.click(method_name, toolbar_event);\n",
       "        button.mouseover(tooltip, toolbar_mouse_event);\n",
       "        nav_element.append(button);\n",
       "    }\n",
       "\n",
       "    // Add the status bar.\n",
       "    var status_bar = $('<span class=\"mpl-message\" style=\"text-align:right; float: right;\"/>');\n",
       "    nav_element.append(status_bar);\n",
       "    this.message = status_bar[0];\n",
       "\n",
       "    // Add the close button to the window.\n",
       "    var buttongrp = $('<div class=\"btn-group inline pull-right\"></div>');\n",
       "    var button = $('<button class=\"btn btn-mini btn-primary\" href=\"#\" title=\"Stop Interaction\"><i class=\"fa fa-power-off icon-remove icon-large\"></i></button>');\n",
       "    button.click(function (evt) { fig.handle_close(fig, {}); } );\n",
       "    button.mouseover('Stop Interaction', toolbar_mouse_event);\n",
       "    buttongrp.append(button);\n",
       "    var titlebar = this.root.find($('.ui-dialog-titlebar'));\n",
       "    titlebar.prepend(buttongrp);\n",
       "}\n",
       "\n",
       "mpl.figure.prototype._root_extra_style = function(el){\n",
       "    var fig = this\n",
       "    el.on(\"remove\", function(){\n",
       "\tfig.close_ws(fig, {});\n",
       "    });\n",
       "}\n",
       "\n",
       "mpl.figure.prototype._canvas_extra_style = function(el){\n",
       "    // this is important to make the div 'focusable\n",
       "    el.attr('tabindex', 0)\n",
       "    // reach out to IPython and tell the keyboard manager to turn it's self\n",
       "    // off when our div gets focus\n",
       "\n",
       "    // location in version 3\n",
       "    if (IPython.notebook.keyboard_manager) {\n",
       "        IPython.notebook.keyboard_manager.register_events(el);\n",
       "    }\n",
       "    else {\n",
       "        // location in version 2\n",
       "        IPython.keyboard_manager.register_events(el);\n",
       "    }\n",
       "\n",
       "}\n",
       "\n",
       "mpl.figure.prototype._key_event_extra = function(event, name) {\n",
       "    var manager = IPython.notebook.keyboard_manager;\n",
       "    if (!manager)\n",
       "        manager = IPython.keyboard_manager;\n",
       "\n",
       "    // Check for shift+enter\n",
       "    if (event.shiftKey && event.which == 13) {\n",
       "        this.canvas_div.blur();\n",
       "        // select the cell after this one\n",
       "        var index = IPython.notebook.find_cell_index(this.cell_info[0]);\n",
       "        IPython.notebook.select(index + 1);\n",
       "    }\n",
       "}\n",
       "\n",
       "mpl.figure.prototype.handle_save = function(fig, msg) {\n",
       "    fig.ondownload(fig, null);\n",
       "}\n",
       "\n",
       "\n",
       "mpl.find_output_cell = function(html_output) {\n",
       "    // Return the cell and output element which can be found *uniquely* in the notebook.\n",
       "    // Note - this is a bit hacky, but it is done because the \"notebook_saving.Notebook\"\n",
       "    // IPython event is triggered only after the cells have been serialised, which for\n",
       "    // our purposes (turning an active figure into a static one), is too late.\n",
       "    var cells = IPython.notebook.get_cells();\n",
       "    var ncells = cells.length;\n",
       "    for (var i=0; i<ncells; i++) {\n",
       "        var cell = cells[i];\n",
       "        if (cell.cell_type === 'code'){\n",
       "            for (var j=0; j<cell.output_area.outputs.length; j++) {\n",
       "                var data = cell.output_area.outputs[j];\n",
       "                if (data.data) {\n",
       "                    // IPython >= 3 moved mimebundle to data attribute of output\n",
       "                    data = data.data;\n",
       "                }\n",
       "                if (data['text/html'] == html_output) {\n",
       "                    return [cell, data, j];\n",
       "                }\n",
       "            }\n",
       "        }\n",
       "    }\n",
       "}\n",
       "\n",
       "// Register the function which deals with the matplotlib target/channel.\n",
       "// The kernel may be null if the page has been refreshed.\n",
       "if (IPython.notebook.kernel != null) {\n",
       "    IPython.notebook.kernel.comm_manager.register_target('matplotlib', mpl.mpl_figure_comm);\n",
       "}\n"
      ],
      "text/plain": [
       "<IPython.core.display.Javascript object>"
      ]
     },
     "metadata": {},
     "output_type": "display_data"
    },
    {
     "data": {
      "text/html": [
       "<img src=\"data:image/png;base64,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\" width=\"432\">"
      ],
      "text/plain": [
       "<IPython.core.display.HTML object>"
      ]
     },
     "metadata": {},
     "output_type": "display_data"
    }
   ],
   "source": [
    "# Create animation of 3D cube\n",
    "%matplotlib notebook\n",
    "ndc.plot()"
   ]
  },
  {
   "cell_type": "code",
   "execution_count": 63,
   "metadata": {
    "collapsed": false
   },
   "outputs": [
    {
     "data": {
      "text/plain": [
       "DimensionPair(shape=<Quantity [  16., 400.] pix>, axis_types=['HPLN-TAN', 'HPLT-TAN'])"
      ]
     },
     "execution_count": 63,
     "metadata": {},
     "output_type": "execute_result"
    }
   ],
   "source": [
    "# 2D data\n",
    "ndc[:,:,0].dimensions"
   ]
  },
  {
   "cell_type": "code",
   "execution_count": 67,
   "metadata": {
    "collapsed": false
   },
   "outputs": [
    {
     "data": {
      "text/plain": [
       "<matplotlib.image.AxesImage at 0x1fe90d0b8>"
      ]
     },
     "execution_count": 67,
     "metadata": {},
     "output_type": "execute_result"
    },
    {
     "data": {
      "image/png": "[encoded data removed]",
      "text/plain": [
       "<matplotlib.figure.Figure at 0x3614632b0>"
      ]
     },
     "metadata": {},
     "output_type": "display_data"
    }
   ],
   "source": [
    "# Create image of 2D cube\n",
    "%matplotlib inline\n",
    "\n",
    "ndc[0,:,:].plot()"
   ]
  },
  {
   "cell_type": "code",
   "execution_count": 87,
   "metadata": {
    "collapsed": false
   },
   "outputs": [
    {
     "data": {
      "text/plain": [
       "DimensionPair(shape=<Quantity [ 182.] pix>, axis_types=['WAVE'])"
      ]
     },
     "execution_count": 87,
     "metadata": {},
     "output_type": "execute_result"
    }
   ],
   "source": [
    "# 1D data\n",
    "ndc[0, 100].dimensions"
   ]
  },
  {
   "cell_type": "code",
   "execution_count": 88,
   "metadata": {
    "collapsed": false
   },
   "outputs": [
    {
     "data": {
      "text/plain": [
       "[<matplotlib.lines.Line2D at 0x2e36a1fd0>]"
      ]
     },
     "execution_count": 88,
     "metadata": {},
     "output_type": "execute_result"
    },
    {
     "data": {
      "image/png": "[encoded data removed]",
      "text/plain": [
       "<matplotlib.figure.Figure at 0x2e0d33cc0>"
      ]
     },
     "metadata": {},
     "output_type": "display_data"
    }
   ],
   "source": [
    "# Create plot of 1D cube\n",
    "ndc[0, 100].plot()"
   ]
  },
  {
   "cell_type": "markdown",
   "metadata": {},
   "source": [
    "## WCS conversions\n",
    "NDCube subclasses the astropy WCS object which holds and implements the translations from pixel to real world coordinates. These translations are defined by standarized keywords that are set in the IRIS FITS files headers. The WCS object of the NDCube can be accessed directly."
   ]
  },
  {
   "cell_type": "code",
   "execution_count": 59,
   "metadata": {
    "collapsed": false
   },
   "outputs": [
    {
     "data": {
      "text/plain": [
       "WCS Keywords\n",
       "\n",
       "Number of WCS axes: 3\n",
       "CTYPE : 'WAVE'  'HPLT-TAN'  'HPLN-TAN'  \n",
       "CRVAL : 1.33275413016e-07  0.070423888888888897  -0.04885833333333333  \n",
       "CRPIX : 1.0  200.5  8.0  \n",
       "PC1_1 PC1_2 PC1_3  : 1.0  0.0  0.0  \n",
       "PC2_1 PC2_2 PC2_3  : 0.0  0.99993872642500004  -0.0236807777419  \n",
       "PC3_1 PC3_2 PC3_3  : 0.0  0.0053738806049599998  0.99993872642500004  \n",
       "CDELT : 2.5960000231900002e-12  4.6208333333333329e-05  9.7000572416388892e-05  \n",
       "NAXIS : 182  400  16"
      ]
     },
     "execution_count": 59,
     "metadata": {},
     "output_type": "execute_result"
    }
   ],
   "source": [
    "ndc.wcs"
   ]
  },
  {
   "cell_type": "markdown",
   "metadata": {},
   "source": [
    "**N.B.** Due to convention, WCS axes are given in reverse order to the data. This can be confusing, but don't try to \"correct\" the order. Functionalities throughout astropy and in NDCube are written expecting this reversed order. It will be less confusing the remember that the WCS object is reversed than trying to \"fix\" it. Also note that everywhere else in NDCube, the axes order is presented in data order e.g. NDCube.dimensions[\"axis_types\"]"
   ]
  },
  {
   "cell_type": "code",
   "execution_count": 60,
   "metadata": {
    "collapsed": false
   },
   "outputs": [
    {
     "data": {
      "text/plain": [
       "DimensionPair(shape=<Quantity [  16., 400., 182.] pix>, axis_types=['HPLN-TAN', 'HPLT-TAN', 'WAVE'])"
      ]
     },
     "execution_count": 60,
     "metadata": {},
     "output_type": "execute_result"
    }
   ],
   "source": [
    "ndc.dimensions"
   ]
  },
  {
   "cell_type": "markdown",
   "metadata": {},
   "source": [
    "The functions provided by WCS objects to convert from pixel to real world coordinates are a little user-unfriendly. Therefore NDCube provides convenience wrappers NDCube.pixel_to_world and NDCube.world_to_pixel."
   ]
  },
  {
   "cell_type": "markdown",
   "metadata": {},
   "source": [
    "### Pixel to World Coordinates"
   ]
  },
  {
   "cell_type": "code",
   "execution_count": 61,
   "metadata": {
    "collapsed": false
   },
   "outputs": [
    {
     "name": "stdout",
     "output_type": "stream",
     "text": [
      "Help on method pixel_to_world in module ndcube.ndcube:\n",
      "\n",
      "pixel_to_world(quantity_axis_list, origin=0) method of ndcube.ndcube.NDCube instance\n",
      "    Convert a pixel coordinate to a data (world) coordinate by using\n",
      "    `~astropy.wcs.WCS.all_pix2world`.\n",
      "    \n",
      "    Parameters\n",
      "    ----------\n",
      "    quantity_axis_list : `list`\n",
      "        A list of `~astropy.units.Quantity` with unit as pixel `pix`.\n",
      "    \n",
      "    origin : `int`.\n",
      "        Origin of the top-left corner. i.e. count from 0 or 1.\n",
      "        Normally, origin should be 0 when passing numpy indices, or 1 if\n",
      "        passing values from FITS header or map attributes.\n",
      "        See `~astropy.wcs.WCS.wcs_pix2world` for more information.\n",
      "        Default is 0.\n",
      "    \n",
      "    Returns\n",
      "    -------\n",
      "    \n",
      "    coord : `list`\n",
      "        A list of arrays containing the output coordinates\n",
      "        reverse of the wcs axis order.\n",
      "\n"
     ]
    }
   ],
   "source": [
    "help(ndc.pixel_to_world)"
   ]
  },
  {
   "cell_type": "markdown",
   "metadata": {},
   "source": [
    "Note that values must be entered as an astropy quantity in pixel units. And that values for all dimensions must be supplied."
   ]
  },
  {
   "cell_type": "code",
   "execution_count": 62,
   "metadata": {
    "collapsed": false
   },
   "outputs": [
    {
     "data": {
      "text/plain": [
       "[<Quantity -0.049641289436134974 deg>,\n",
       " <Quantity 0.06121355106168392 deg>,\n",
       " <Quantity 1.33275413016e-07 m>]"
      ]
     },
     "execution_count": 62,
     "metadata": {},
     "output_type": "execute_result"
    }
   ],
   "source": [
    "# Real world values of the (0, 0, 0) pixel in the array.\n",
    "ndc.pixel_to_world([0*u.pix, 0*u.pix, 0*u.pix])"
   ]
  },
  {
   "cell_type": "markdown",
   "metadata": {},
   "source": [
    "The real world coordinates are returned as a list of astropy quantities in SI units. Each quantity corresponds to one axis. And the nth pixel entered to the function is described by the nth element in each quantity. Below are more complicated examples"
   ]
  },
  {
   "cell_type": "code",
   "execution_count": 63,
   "metadata": {
    "collapsed": false
   },
   "outputs": [
    {
     "data": {
      "text/plain": [
       "[<Quantity [-0.04964129,-0.04964129,-0.04964129] deg>,\n",
       " <Quantity [ 0.06121355, 0.06121355, 0.06121355] deg>,\n",
       " <Quantity [  1.33275413e-07,  1.33278009e-07,  1.33280605e-07] m>]"
      ]
     },
     "execution_count": 63,
     "metadata": {},
     "output_type": "execute_result"
    }
   ],
   "source": [
    "# Real world values of the (0, 0, 0), (0, 0, 1), (0, 0, 2) pixels in the array.\n",
    "ndc.pixel_to_world([0*u.pix, 0*u.pix, np.arange(3)*u.pix])"
   ]
  },
  {
   "cell_type": "markdown",
   "metadata": {},
   "source": [
    "**N.B.** For this NDCube, two dimensions are helio-projected longitude and latitude. These are coupled dimensions, i.e. to get either a longitude and latitude pixel values in the x and y dimensions must be supplied. The reverse is also true when going from longitude/latitude to pixel values."
   ]
  },
  {
   "cell_type": "code",
   "execution_count": 64,
   "metadata": {
    "collapsed": false
   },
   "outputs": [
    {
     "data": {
      "text/plain": [
       "[<Quantity [-0.04964129,-0.04954377,-0.04944626] deg>,\n",
       " <Quantity [ 0.06121355, 0.06125866, 0.06130377] deg>,\n",
       " <Quantity [  1.33275413e-07,  1.33275413e-07,  1.33275413e-07] m>]"
      ]
     },
     "execution_count": 64,
     "metadata": {},
     "output_type": "execute_result"
    }
   ],
   "source": [
    "# Real world values of the (0, 0, 0), (1, 1, 0), (2, 2, 0) pixels in the array.\n",
    "ndc.pixel_to_world([np.arange(3)*u.pix, np.arange(3)*u.pix, 0*u.pix])"
   ]
  },
  {
   "cell_type": "code",
   "execution_count": 65,
   "metadata": {
    "collapsed": false
   },
   "outputs": [
    {
     "data": {
      "text/plain": [
       "[<Quantity [-0.04964129,-0.04954429,-0.0494473 ] deg>,\n",
       " <Quantity [ 0.06121355, 0.06121246, 0.06121136] deg>,\n",
       " <Quantity [  1.33275413e-07,  1.33275413e-07,  1.33275413e-07] m>]"
      ]
     },
     "execution_count": 65,
     "metadata": {},
     "output_type": "execute_result"
    }
   ],
   "source": [
    "# Real world values of the (0, 0, 0), (1, 0, 0), (2, 0, 0) pixels in the array.\n",
    "ndc.pixel_to_world([np.arange(3)*u.pix, 0*u.pix, 0*u.pix])"
   ]
  },
  {
   "cell_type": "code",
   "execution_count": 66,
   "metadata": {
    "collapsed": false
   },
   "outputs": [
    {
     "data": {
      "text/plain": [
       "[<Quantity [-0.04964129,-0.04964077,-0.04964025] deg>,\n",
       " <Quantity [ 0.06121355, 0.06125976, 0.06130596] deg>,\n",
       " <Quantity [  1.33275413e-07,  1.33275413e-07,  1.33275413e-07] m>]"
      ]
     },
     "execution_count": 66,
     "metadata": {},
     "output_type": "execute_result"
    }
   ],
   "source": [
    "# Real world values of the (0, 0, 0), (0, 1, 0), (0, 2, 0) pixels in the array.\n",
    "ndc.pixel_to_world([0*u.pix, np.arange(3)*u.pix, 0*u.pix])"
   ]
  },
  {
   "cell_type": "code",
   "execution_count": 67,
   "metadata": {
    "collapsed": false
   },
   "outputs": [
    {
     "data": {
      "text/plain": [
       "[<Quantity [-0.04964129,-0.04954429,-0.0494473 ,-0.04964077,-0.04954377,\n",
       "            -0.04944678,-0.04964025,-0.04954325,-0.04944626] deg>,\n",
       " <Quantity [ 0.06121355, 0.06121246, 0.06121136, 0.06125976, 0.06125866,\n",
       "             0.06125757, 0.06130596, 0.06130487, 0.06130377] deg>,\n",
       " <Quantity [  1.33275413e-07,  1.33275413e-07,  1.33275413e-07,\n",
       "              1.33275413e-07,  1.33275413e-07,  1.33275413e-07,\n",
       "              1.33275413e-07,  1.33275413e-07,  1.33275413e-07] m>]"
      ]
     },
     "execution_count": 67,
     "metadata": {},
     "output_type": "execute_result"
    }
   ],
   "source": [
    "# Real world values of the \n",
    "# (0, 0, 0), (1, 0, 0), (2, 0, 0)\n",
    "# (0, 1, 0), (1, 1, 0), (2, 1, 0)\n",
    "# (0, 2, 0), (1, 2, 0), (2, 2, 0)\n",
    "# pixels in the array.\n",
    "ndc.pixel_to_world([[0, 1, 2, 0, 1, 2, 0, 1, 2]*u.pix, \n",
    "                   [0, 0, 0, 1, 1, 1, 2, 2, 2]*u.pix, 0*u.pix])"
   ]
  },
  {
   "cell_type": "markdown",
   "metadata": {},
   "source": [
    "Fractional pixel values can also be given which can be useful, e.g. for studying the alignment of multiple instruments."
   ]
  },
  {
   "cell_type": "code",
   "execution_count": 68,
   "metadata": {
    "collapsed": false
   },
   "outputs": [
    {
     "data": {
      "text/plain": [
       "[<Quantity -0.04959253146013174 deg>,\n",
       " <Quantity 0.06123610668815066 deg>,\n",
       " <Quantity 1.332767110160116e-07 m>]"
      ]
     },
     "execution_count": 68,
     "metadata": {},
     "output_type": "execute_result"
    }
   ],
   "source": [
    "# Real world values of the (0.5, 0.5, 0.5) pixel in the array.\n",
    "ndc.pixel_to_world([0.5*u.pix, 0.5*u.pix, 0.5*u.pix])"
   ]
  },
  {
   "cell_type": "markdown",
   "metadata": {},
   "source": [
    "### World to Pixel Coordinates\n",
    "NDCube.world_to_pixel is the exact reverse of NDCube.pixel_to_world. Except this time, real world coordinates get given and pixels are returned."
   ]
  },
  {
   "cell_type": "code",
   "execution_count": 69,
   "metadata": {
    "collapsed": false
   },
   "outputs": [
    {
     "name": "stdout",
     "output_type": "stream",
     "text": [
      "Help on method world_to_pixel in module ndcube.ndcube:\n",
      "\n",
      "world_to_pixel(quantity_axis_list, origin=0) method of ndcube.ndcube.NDCube instance\n",
      "    Convert a world coordinate to a data (pixel) coordinate by using\n",
      "    `~astropy.wcs.WCS.all_world2pix`.\n",
      "    \n",
      "    Parameters\n",
      "    ----------\n",
      "    quantity_axis_list : `list`\n",
      "        A list of `~astropy.units.Quantity`.\n",
      "    \n",
      "    origin : `int`\n",
      "        Origin of the top-left corner. i.e. count from 0 or 1.\n",
      "        Normally, origin should be 0 when passing numpy indices, or 1 if\n",
      "        passing values from FITS header or map attributes.\n",
      "        See `~astropy.wcs.WCS.wcs_world2pix` for more information.\n",
      "        Default is 0.\n",
      "    \n",
      "    Returns\n",
      "    -------\n",
      "    \n",
      "    coord : `list`\n",
      "        A list of arrays containing the output coordinates\n",
      "        reverse of the wcs axis order.\n",
      "\n"
     ]
    }
   ],
   "source": [
    "help(ndc.world_to_pixel)"
   ]
  },
  {
   "cell_type": "code",
   "execution_count": 70,
   "metadata": {
    "collapsed": false
   },
   "outputs": [
    {
     "data": {
      "text/plain": [
       "[<Quantity 553.9563566124007 pix>,\n",
       " <Quantity -3432.6628219788863 pix>,\n",
       " <Quantity -32.901777826277545 pix>]"
      ]
     },
     "execution_count": 70,
     "metadata": {},
     "output_type": "execute_result"
    }
   ],
   "source": [
    "ndc.world_to_pixel([u.Quantity(0.0023, unit=\"deg\"), \n",
    "                    u.Quantity(-0.098, unit=\"deg\"),\n",
    "                    u.Quantity(1.3319e-07, unit=\"m\")])"
   ]
  },
  {
   "cell_type": "markdown",
   "metadata": {},
   "source": [
    "Note that fractional and negative pixels can by returned. This shows that the WCS translations are not bound by the extend of the CCD, but can extrapolate at any resolution to give the exact integer value that does or would correspond to a real world coordinate."
   ]
  },
  {
   "cell_type": "markdown",
   "metadata": {},
   "source": [
    "Because Quantites are provided, a value in any valid unit can be supplied. Instead of using metres, let's use Angstroms."
   ]
  },
  {
   "cell_type": "code",
   "execution_count": 71,
   "metadata": {
    "collapsed": false
   },
   "outputs": [
    {
     "data": {
      "text/plain": [
       "[<Quantity 553.9563566124007 pix>,\n",
       " <Quantity -3432.6628219788863 pix>,\n",
       " <Quantity -32.90177782625715 pix>]"
      ]
     },
     "execution_count": 71,
     "metadata": {},
     "output_type": "execute_result"
    }
   ],
   "source": [
    "ndc.world_to_pixel([u.Quantity(0.0023, unit=\"deg\"), \n",
    "                    u.Quantity(-0.098, unit=\"deg\"),\n",
    "                    u.Quantity(1331.9, unit=\"Angstrom\")])"
   ]
  },
  {
   "cell_type": "markdown",
   "metadata": {},
   "source": [
    "### NDCube.crop_by_coords\n",
    "If a user wants to crop to a sub-region of interest in an NDCube using real world coordinates, they can use the NDCube.crop_by_coords method."
   ]
  },
  {
   "cell_type": "code",
   "execution_count": 72,
   "metadata": {
    "collapsed": false
   },
   "outputs": [
    {
     "name": "stdout",
     "output_type": "stream",
     "text": [
      "Help on method crop_by_coords in module ndcube.ndcube:\n",
      "\n",
      "crop_by_coords(lower_left_corner, dimension_widths) method of ndcube.ndcube.NDCube instance\n",
      "    Crops an NDCube given a lower left corner and widths of region of interest.\n",
      "    \n",
      "    Parameters\n",
      "    ----------\n",
      "    lower_left_corner: `list` of `astropy.units.Quantity`s\n",
      "        The lower left corner of the region of interest described in physical units\n",
      "        consistent with the NDCube's wcs object.  The length of the iterable must\n",
      "        equal the number of data dimensions and must have the same order as the data.\n",
      "    \n",
      "    dimension_widths: iterable of `astropy.units.Quantity`s\n",
      "        The width of the region of interest in each dimension in physical units\n",
      "        consistent with the NDCube's wcs object.  The length of the iterable must\n",
      "        equal the number of data dimensions and must have the same order as the data.\n",
      "    \n",
      "    Returns\n",
      "    -------\n",
      "    result: NDCube\n",
      "\n"
     ]
    }
   ],
   "source": [
    "help(ndc.crop_by_coords)"
   ]
  },
  {
   "cell_type": "code",
   "execution_count": 73,
   "metadata": {
    "collapsed": false
   },
   "outputs": [
    {
     "data": {
      "text/plain": [
       "DimensionPair(shape=<Quantity [  16., 400., 182.] pix>, axis_types=['HPLN-TAN', 'HPLT-TAN', 'WAVE'])"
      ]
     },
     "execution_count": 73,
     "metadata": {},
     "output_type": "execute_result"
    }
   ],
   "source": [
    "# Use ndc.dimensions to see how many pixels in each axis\n",
    "ndc.dimensions"
   ]
  },
  {
   "cell_type": "code",
   "execution_count": 74,
   "metadata": {
    "collapsed": false
   },
   "outputs": [
    {
     "data": {
      "text/plain": [
       "[<Quantity -0.049641289436134974 deg>,\n",
       " <Quantity 0.06121355106168392 deg>,\n",
       " <Quantity 1.33275413016e-07 m>]"
      ]
     },
     "execution_count": 74,
     "metadata": {},
     "output_type": "execute_result"
    }
   ],
   "source": [
    "# Find the real world coordinates of the lower left corner of the cube\n",
    "ndc.pixel_to_world([0*u.pix]*3)"
   ]
  },
  {
   "cell_type": "code",
   "execution_count": 152,
   "metadata": {
    "collapsed": false
   },
   "outputs": [
    {
     "data": {
      "text/plain": [
       "[<Quantity -0.047978382199897675 deg>,\n",
       " <Quantity 0.07963313245175621 deg>,\n",
       " <Quantity 1.337452890201974e-07 m>]"
      ]
     },
     "execution_count": 152,
     "metadata": {},
     "output_type": "execute_result"
    }
   ],
   "source": [
    "# Find the real world coordinates of the upper right corner of the cube\n",
    "ndc.pixel_to_world([15*u.pix, 399*u.pix, 181*u.pix])"
   ]
  },
  {
   "cell_type": "code",
   "execution_count": 71,
   "metadata": {
    "collapsed": false
   },
   "outputs": [
    {
     "data": {
      "text/plain": [
       "Sunpy NDCube\n",
       "---------------------\n",
       "WCS Keywords\n",
       "\n",
       "Number of WCS axes: 3\n",
       "CTYPE : 'WAVE'  'HPLT-TAN'  'HPLN-TAN'  \n",
       "CRVAL : 1.33275413016e-07  0.070423888888888897  -0.04885833333333333  \n",
       "CRPIX : -8.0  205.5  12.0  \n",
       "PC1_1 PC1_2 PC1_3  : 1.0  0.0  0.0  \n",
       "PC2_1 PC2_2 PC2_3  : 0.0  0.99993872642500004  -0.0236807777419  \n",
       "PC3_1 PC3_2 PC3_3  : 0.0  0.0053738806049599998  0.99993872642500004  \n",
       "CDELT : 2.5960000231900002e-12  4.6208333333333329e-05  9.7000572416388892e-05  \n",
       "NAXIS : 173  5  0\n",
       "---------------------\n",
       "Length of NDCube: [   0.    5.  173.] pix\n",
       "Axis Types of NDCube: ['HPLN-TAN', 'HPLT-TAN', 'WAVE']"
      ]
     },
     "execution_count": 71,
     "metadata": {},
     "output_type": "execute_result"
    }
   ],
   "source": [
    "ndc_cropped = ndc.crop_by_coords([-0.050*u.deg, 0.061*u.deg, 1.333e-7*u.m], [-0.050*u.deg, 0.080*u.deg, 1.337e-7*u.m])\n",
    "ndc_cropped"
   ]
  },
  {
   "cell_type": "code",
   "execution_count": 72,
   "metadata": {
    "collapsed": false
   },
   "outputs": [
    {
     "ename": "IndexError",
     "evalue": "index 0 is out of bounds for axis 0 with size 0",
     "output_type": "error",
     "traceback": [
      "\u001b[0;31m---------------------------------------------------------------------------\u001b[0m",
      "\u001b[0;31mIndexError\u001b[0m                                Traceback (most recent call last)",
      "\u001b[0;32m<ipython-input-72-ecd762491724>\u001b[0m in \u001b[0;36m<module>\u001b[0;34m()\u001b[0m\n\u001b[1;32m      1\u001b[0m \u001b[0mget_ipython\u001b[0m\u001b[0;34m(\u001b[0m\u001b[0;34m)\u001b[0m\u001b[0;34m.\u001b[0m\u001b[0mmagic\u001b[0m\u001b[0;34m(\u001b[0m\u001b[0;34m'matplotlib inline'\u001b[0m\u001b[0;34m)\u001b[0m\u001b[0;34m\u001b[0m\u001b[0m\n\u001b[0;32m----> 2\u001b[0;31m \u001b[0mndc_cropped\u001b[0m\u001b[0;34m.\u001b[0m\u001b[0mplot\u001b[0m\u001b[0;34m(\u001b[0m\u001b[0;34m)\u001b[0m\u001b[0;34m\u001b[0m\u001b[0m\n\u001b[0m",
      "\u001b[0;32m~/anaconda/envs/irispy-dev/lib/python3.6/site-packages/ndcube/ndcube.py\u001b[0m in \u001b[0;36mplot\u001b[0;34m(self, axes, image_axes, unit_x_axis, unit_y_axis, axis_ranges, unit, origin, **kwargs)\u001b[0m\n\u001b[1;32m    264\u001b[0m         \u001b[0;32mif\u001b[0m \u001b[0mself\u001b[0m\u001b[0;34m.\u001b[0m\u001b[0mdata\u001b[0m\u001b[0;34m.\u001b[0m\u001b[0mndim\u001b[0m \u001b[0;34m>=\u001b[0m \u001b[0;36m3\u001b[0m\u001b[0;34m:\u001b[0m\u001b[0;34m\u001b[0m\u001b[0m\n\u001b[1;32m    265\u001b[0m             plot = _plot_3D_cube(self, image_axes=image_axes, unit_x_axis=unit_x_axis,\n\u001b[0;32m--> 266\u001b[0;31m                                  unit_y_axis=unit_y_axis, axis_ranges=axis_ranges, *kwargs)\n\u001b[0m\u001b[1;32m    267\u001b[0m         \u001b[0;32melif\u001b[0m \u001b[0mself\u001b[0m\u001b[0;34m.\u001b[0m\u001b[0mdata\u001b[0m\u001b[0;34m.\u001b[0m\u001b[0mndim\u001b[0m \u001b[0;32mis\u001b[0m \u001b[0;36m2\u001b[0m\u001b[0;34m:\u001b[0m\u001b[0;34m\u001b[0m\u001b[0m\n\u001b[1;32m    268\u001b[0m             \u001b[0mplot\u001b[0m \u001b[0;34m=\u001b[0m \u001b[0m_plot_2D_cube\u001b[0m\u001b[0;34m(\u001b[0m\u001b[0mself\u001b[0m\u001b[0;34m,\u001b[0m \u001b[0maxes\u001b[0m\u001b[0;34m=\u001b[0m\u001b[0maxes\u001b[0m\u001b[0;34m,\u001b[0m \u001b[0mimage_axes\u001b[0m\u001b[0;34m=\u001b[0m\u001b[0maxis_data\u001b[0m\u001b[0;34m[\u001b[0m\u001b[0;34m:\u001b[0m\u001b[0;34m:\u001b[0m\u001b[0;34m-\u001b[0m\u001b[0;36m1\u001b[0m\u001b[0;34m]\u001b[0m\u001b[0;34m,\u001b[0m \u001b[0;34m**\u001b[0m\u001b[0mkwargs\u001b[0m\u001b[0;34m)\u001b[0m\u001b[0;34m\u001b[0m\u001b[0m\n",
      "\u001b[0;32m~/anaconda/envs/irispy-dev/lib/python3.6/site-packages/ndcube/ndcube.py\u001b[0m in \u001b[0;36m_plot_3D_cube\u001b[0;34m(cube, image_axes, unit_x_axis, unit_y_axis, axis_ranges, **kwargs)\u001b[0m\n\u001b[1;32m    452\u001b[0m     i = ImageAnimatorWCS(cube.data, wcs=cube.wcs, image_axes=image_axes,\n\u001b[1;32m    453\u001b[0m                          \u001b[0munit_x_axis\u001b[0m\u001b[0;34m=\u001b[0m\u001b[0munit_x_axis\u001b[0m\u001b[0;34m,\u001b[0m \u001b[0munit_y_axis\u001b[0m\u001b[0;34m=\u001b[0m\u001b[0munit_y_axis\u001b[0m\u001b[0;34m,\u001b[0m\u001b[0;34m\u001b[0m\u001b[0m\n\u001b[0;32m--> 454\u001b[0;31m                          axis_ranges=axis_ranges, **kwargs)\n\u001b[0m\u001b[1;32m    455\u001b[0m     \u001b[0;32mreturn\u001b[0m \u001b[0mi\u001b[0m\u001b[0;34m\u001b[0m\u001b[0m\n\u001b[1;32m    456\u001b[0m \u001b[0;34m\u001b[0m\u001b[0m\n",
      "\u001b[0;32m~/Developer/sunpy_dev/sunpy/visualization/imageanimator.py\u001b[0m in \u001b[0;36m__init__\u001b[0;34m(self, data, wcs, image_axes, unit_x_axis, unit_y_axis, axis_ranges, **kwargs)\u001b[0m\n\u001b[1;32m    950\u001b[0m         \u001b[0mself\u001b[0m\u001b[0;34m.\u001b[0m\u001b[0munit_x_axis\u001b[0m \u001b[0;34m=\u001b[0m \u001b[0munit_x_axis\u001b[0m\u001b[0;34m\u001b[0m\u001b[0m\n\u001b[1;32m    951\u001b[0m         \u001b[0mself\u001b[0m\u001b[0;34m.\u001b[0m\u001b[0munit_y_axis\u001b[0m \u001b[0;34m=\u001b[0m \u001b[0munit_y_axis\u001b[0m\u001b[0;34m\u001b[0m\u001b[0m\n\u001b[0;32m--> 952\u001b[0;31m         \u001b[0msuper\u001b[0m\u001b[0;34m(\u001b[0m\u001b[0mImageAnimatorWCS\u001b[0m\u001b[0;34m,\u001b[0m \u001b[0mself\u001b[0m\u001b[0;34m)\u001b[0m\u001b[0;34m.\u001b[0m\u001b[0m__init__\u001b[0m\u001b[0;34m(\u001b[0m\u001b[0mdata\u001b[0m\u001b[0;34m,\u001b[0m \u001b[0mimage_axes\u001b[0m\u001b[0;34m=\u001b[0m\u001b[0mimage_axes\u001b[0m\u001b[0;34m,\u001b[0m \u001b[0maxis_ranges\u001b[0m\u001b[0;34m=\u001b[0m\u001b[0maxis_ranges\u001b[0m\u001b[0;34m,\u001b[0m \u001b[0;34m**\u001b[0m\u001b[0mkwargs\u001b[0m\u001b[0;34m)\u001b[0m\u001b[0;34m\u001b[0m\u001b[0m\n\u001b[0m\u001b[1;32m    953\u001b[0m \u001b[0;34m\u001b[0m\u001b[0m\n\u001b[1;32m    954\u001b[0m     \u001b[0;32mdef\u001b[0m \u001b[0m_get_main_axes\u001b[0m\u001b[0;34m(\u001b[0m\u001b[0mself\u001b[0m\u001b[0;34m)\u001b[0m\u001b[0;34m:\u001b[0m\u001b[0;34m\u001b[0m\u001b[0m\n",
      "\u001b[0;32m~/Developer/sunpy_dev/sunpy/visualization/imageanimator.py\u001b[0m in \u001b[0;36m__init__\u001b[0;34m(self, data, image_axes, axis_ranges, **kwargs)\u001b[0m\n\u001b[1;32m    686\u001b[0m         \u001b[0;31m# Run init for parent class\u001b[0m\u001b[0;34m\u001b[0m\u001b[0;34m\u001b[0m\u001b[0m\n\u001b[1;32m    687\u001b[0m         super(ImageAnimator, self).__init__(data, image_axes=image_axes,\n\u001b[0;32m--> 688\u001b[0;31m                                             axis_ranges=axis_ranges, **kwargs)\n\u001b[0m\u001b[1;32m    689\u001b[0m \u001b[0;34m\u001b[0m\u001b[0m\n\u001b[1;32m    690\u001b[0m     \u001b[0;32mdef\u001b[0m \u001b[0mplot_start_image\u001b[0m\u001b[0;34m(\u001b[0m\u001b[0mself\u001b[0m\u001b[0;34m,\u001b[0m \u001b[0max\u001b[0m\u001b[0;34m)\u001b[0m\u001b[0;34m:\u001b[0m\u001b[0;34m\u001b[0m\u001b[0m\n",
      "\u001b[0;32m~/Developer/sunpy_dev/sunpy/visualization/imageanimator.py\u001b[0m in \u001b[0;36m__init__\u001b[0;34m(self, data, image_axes, axis_ranges, **kwargs)\u001b[0m\n\u001b[1;32m    535\u001b[0m                        'slider_ranges': [self.axis_ranges[i] for i in self.slider_axes]}\n\u001b[1;32m    536\u001b[0m         \u001b[0mbase_kwargs\u001b[0m\u001b[0;34m.\u001b[0m\u001b[0mupdate\u001b[0m\u001b[0;34m(\u001b[0m\u001b[0mkwargs\u001b[0m\u001b[0;34m)\u001b[0m\u001b[0;34m\u001b[0m\u001b[0m\n\u001b[0;32m--> 537\u001b[0;31m         \u001b[0mBaseFuncAnimator\u001b[0m\u001b[0;34m.\u001b[0m\u001b[0m__init__\u001b[0m\u001b[0;34m(\u001b[0m\u001b[0mself\u001b[0m\u001b[0;34m,\u001b[0m \u001b[0mdata\u001b[0m\u001b[0;34m,\u001b[0m \u001b[0;34m**\u001b[0m\u001b[0mbase_kwargs\u001b[0m\u001b[0;34m)\u001b[0m\u001b[0;34m\u001b[0m\u001b[0m\n\u001b[0m\u001b[1;32m    538\u001b[0m \u001b[0;34m\u001b[0m\u001b[0m\n\u001b[1;32m    539\u001b[0m     \u001b[0;32mdef\u001b[0m \u001b[0mlabel_slider\u001b[0m\u001b[0;34m(\u001b[0m\u001b[0mself\u001b[0m\u001b[0;34m,\u001b[0m \u001b[0mi\u001b[0m\u001b[0;34m,\u001b[0m \u001b[0mlabel\u001b[0m\u001b[0;34m)\u001b[0m\u001b[0;34m:\u001b[0m\u001b[0;34m\u001b[0m\u001b[0m\n",
      "\u001b[0;32m~/Developer/sunpy_dev/sunpy/visualization/imageanimator.py\u001b[0m in \u001b[0;36m__init__\u001b[0;34m(self, data, slider_functions, slider_ranges, fig, interval, colorbar, **kwargs)\u001b[0m\n\u001b[1;32m    176\u001b[0m         \u001b[0;31m# Set up axes\u001b[0m\u001b[0;34m\u001b[0m\u001b[0;34m\u001b[0m\u001b[0m\n\u001b[1;32m    177\u001b[0m         \u001b[0mself\u001b[0m\u001b[0;34m.\u001b[0m\u001b[0m_make_axes_grid\u001b[0m\u001b[0;34m(\u001b[0m\u001b[0;34m)\u001b[0m\u001b[0;34m\u001b[0m\u001b[0m\n\u001b[0;32m--> 178\u001b[0;31m         \u001b[0mself\u001b[0m\u001b[0;34m.\u001b[0m\u001b[0m_add_widgets\u001b[0m\u001b[0;34m(\u001b[0m\u001b[0;34m)\u001b[0m\u001b[0;34m\u001b[0m\u001b[0m\n\u001b[0m\u001b[1;32m    179\u001b[0m         \u001b[0mself\u001b[0m\u001b[0;34m.\u001b[0m\u001b[0m_set_active_slider\u001b[0m\u001b[0;34m(\u001b[0m\u001b[0;36m0\u001b[0m\u001b[0;34m)\u001b[0m\u001b[0;34m\u001b[0m\u001b[0m\n\u001b[1;32m    180\u001b[0m \u001b[0;34m\u001b[0m\u001b[0m\n",
      "\u001b[0;32m~/Developer/sunpy_dev/sunpy/visualization/imageanimator.py\u001b[0m in \u001b[0;36m_add_widgets\u001b[0;34m(self)\u001b[0m\n\u001b[1;32m    384\u001b[0m             \u001b[0mself\u001b[0m\u001b[0;34m.\u001b[0m\u001b[0msliders\u001b[0m\u001b[0;34m[\u001b[0m\u001b[0;34m-\u001b[0m\u001b[0;36m1\u001b[0m\u001b[0;34m]\u001b[0m\u001b[0;34m.\u001b[0m\u001b[0mset_axes_locator\u001b[0m\u001b[0;34m(\u001b[0m\u001b[0mlocator\u001b[0m\u001b[0;34m)\u001b[0m\u001b[0;34m\u001b[0m\u001b[0m\n\u001b[1;32m    385\u001b[0m             sframe = SliderPB(self.sliders[-1], \"{slide:d}\".format(slide=i),\n\u001b[0;32m--> 386\u001b[0;31m                               \u001b[0mself\u001b[0m\u001b[0;34m.\u001b[0m\u001b[0mslider_ranges\u001b[0m\u001b[0;34m[\u001b[0m\u001b[0mi\u001b[0m\u001b[0;34m]\u001b[0m\u001b[0;34m[\u001b[0m\u001b[0;36m0\u001b[0m\u001b[0;34m]\u001b[0m\u001b[0;34m,\u001b[0m\u001b[0;34m\u001b[0m\u001b[0m\n\u001b[0m\u001b[1;32m    387\u001b[0m                               \u001b[0mself\u001b[0m\u001b[0;34m.\u001b[0m\u001b[0mslider_ranges\u001b[0m\u001b[0;34m[\u001b[0m\u001b[0mi\u001b[0m\u001b[0;34m]\u001b[0m\u001b[0;34m[\u001b[0m\u001b[0;34m-\u001b[0m\u001b[0;36m1\u001b[0m\u001b[0;34m]\u001b[0m\u001b[0;34m-\u001b[0m\u001b[0;36m1\u001b[0m\u001b[0;34m,\u001b[0m\u001b[0;34m\u001b[0m\u001b[0m\n\u001b[1;32m    388\u001b[0m                               \u001b[0mvalinit\u001b[0m\u001b[0;34m=\u001b[0m\u001b[0mself\u001b[0m\u001b[0;34m.\u001b[0m\u001b[0mslider_ranges\u001b[0m\u001b[0;34m[\u001b[0m\u001b[0mi\u001b[0m\u001b[0;34m]\u001b[0m\u001b[0;34m[\u001b[0m\u001b[0;36m0\u001b[0m\u001b[0;34m]\u001b[0m\u001b[0;34m,\u001b[0m\u001b[0;34m\u001b[0m\u001b[0m\n",
      "\u001b[0;31mIndexError\u001b[0m: index 0 is out of bounds for axis 0 with size 0"
     ]
    },
    {
     "data": {
      "image/png": "[encoded data removed]",
      "text/plain": [
       "<matplotlib.figure.Figure at 0x370ebe4e0>"
      ]
     },
     "metadata": {},
     "output_type": "display_data"
    }
   ],
   "source": [
    "%matplotlib inline\n",
    "ndc_cropped.plot()"
   ]
  },
  {
   "cell_type": "markdown",
   "metadata": {},
   "source": [
    "## NDCube Inherited Attributed\n",
    "As NDCube is inherited from astropy NDData, it includes the same attributes. These are:"
   ]
  },
  {
   "cell_type": "markdown",
   "metadata": {},
   "source": [
    "### mask\n",
    "An boolean array of the same same as the data array where True means that pixel is masked (e.g. because it's bad data) and False means unmasked (i.e. good data). Masked values can be ignored easily in calculations, e.g. of array mean, and are not included in the color table for plotting.\n",
    "By default, all pixel values of -200 in IRISSpectrograph data are masked. But in our ndc NDCube, we did not define a mask on input so it is None."
   ]
  },
  {
   "cell_type": "code",
   "execution_count": 137,
   "metadata": {
    "collapsed": false
   },
   "outputs": [
    {
     "data": {
      "text/plain": [
       "array([[ True,  True,  True, ...,  True,  True,  True],\n",
       "       [ True,  True,  True, ...,  True,  True,  True],\n",
       "       [ True,  True,  True, ...,  True,  True,  True],\n",
       "       ..., \n",
       "       [ True,  True,  True, ...,  True,  True,  True],\n",
       "       [ True,  True,  True, ...,  True,  True,  True],\n",
       "       [ True,  True,  True, ...,  True,  True,  True]], dtype=bool)"
      ]
     },
     "execution_count": 137,
     "metadata": {},
     "output_type": "execute_result"
    }
   ],
   "source": [
    "sg.data[\"C II 1336\"][0].mask"
   ]
  },
  {
   "cell_type": "code",
   "execution_count": 158,
   "metadata": {
    "collapsed": true
   },
   "outputs": [],
   "source": [
    "ndc.mask"
   ]
  },
  {
   "cell_type": "markdown",
   "metadata": {},
   "source": [
    "### uncertainty\n",
    "The uncertainty attribute can be an array the same size as the data, giving an uncertainty value for each pixel's DN. Or it can be a single value to apply to all pixels. Google \"astropy nddata NDData\" for more info."
   ]
  },
  {
   "cell_type": "markdown",
   "metadata": {},
   "source": [
    "### unit\n",
    "Gives unit of data. Not defined when we initiated this NDCube is set to None here."
   ]
  },
  {
   "cell_type": "code",
   "execution_count": 159,
   "metadata": {
    "collapsed": true
   },
   "outputs": [],
   "source": [
    "ndc.unit"
   ]
  },
  {
   "cell_type": "markdown",
   "metadata": {},
   "source": [
    "**N.B.** When slicing/indexing an NDCube, all these additional attributes, mask, uncertainty, and even the WCS object are sliced in addition to the data. This is why it is so important to index the NDCube as a whole, and not just pull ou the data array."
   ]
  }
 ],
 "metadata": {
  "kernelspec": {
   "display_name": "Python [conda env:irispy-dev]",
   "language": "python",
   "name": "conda-env-irispy-dev-py"
  },
  "language_info": {
   "codemirror_mode": {
    "name": "ipython",
    "version": 3
   },
   "file_extension": ".py",
   "mimetype": "text/x-python",
   "name": "python",
   "nbconvert_exporter": "python",
   "pygments_lexer": "ipython3",
   "version": "3.6.1"
  }
 },
 "nbformat": 4,
 "nbformat_minor": 2
}
